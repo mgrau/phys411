{
 "cells": [
  {
   "cell_type": "markdown",
   "id": "9c16a45e",
   "metadata": {},
   "source": [
    "# PHYS 411 - Homework 3\n",
    "Due Tuesday September 20, 2022 at 9:30\n",
    "\n",
    "You can use these buttons below to launch this Jupyter notebook in either [binder](https://mybinder.org/) or [Colab](https://colab.research.google.com/).\n",
    "\n",
    "[![Open in Binder](https://mybinder.org/badge_logo.svg)](http://beta.mybinder.org/v2/gh/mgrau/phys411/main?urlpath=%2Ftree/Homework%203.ipynb)\n",
    "\n",
    "[![Open In Colab](https://colab.research.google.com/assets/colab-badge.svg)](https://colab.research.google.com/github/mgrau/phys411/blob/main/Homework%203.ipynb)\n",
    "\n",
    "When you are finished with your work, please print to a PDF file and submit via canvas.\n",
    "\n",
    "**Remember: this class is about atomic physics, not about Python, so if the Python code is standing in your way, you are free to solve the problems another way (e.g., using Matlab or Mathematica, or by hand), or you can ask me for the code that you need.**"
   ]
  },
  {
   "cell_type": "code",
   "execution_count": 1,
   "id": "760e7799",
   "metadata": {
    "ExecuteTime": {
     "end_time": "2022-09-16T20:14:37.726708Z",
     "start_time": "2022-09-16T20:14:37.303875Z"
    }
   },
   "outputs": [],
   "source": [
    "import matplotlib.pyplot as plt\n",
    "import numpy as np"
   ]
  },
  {
   "cell_type": "markdown",
   "id": "47db5606",
   "metadata": {},
   "source": [
    "# Problem 1 - Parity of Spherical Harmonics\n",
    "1. Show that the spherical harmonics $Y_{lm}(\\theta, \\phi)$ are even or odd under parity. You can do this a few different ways:\n",
    "    - Make an argument for the following relation: $Y_{lm}(\\pi-\\theta, \\phi+\\pi) = (-1)^l Y_{lm}(\\theta, \\phi)$. For this you should use the definition of $Y_{ll} \\propto \\sin^l(\\theta) e^{i l \\phi}$ as well as the lowering operator,\n",
    "    $$ \\hat{l}_- = e^{-i \\phi} \\left( - \\frac{\\partial}{\\partial \\theta} + i \\cot(\\theta) \\frac{\\partial}{\\partial \\phi}\\right)$$\n",
    "    I recommend  Showing this by verifying the relationship for $Y_{ll}$, applying the lowering operator once and verifying the relationship for $Y_{l,l-1}$, and then making an argument for why successive applications of the lowering operator will not change the parity.\n",
    "    - You can also verify this relationship numerically. Choose a good sample of different spherical harmonic functions (say, 6 different ones), and plot both $Y_{lm}(\\theta, \\phi)$ and $\\hat{P} Y_{lm}(\\theta, \\phi) = Y_{lm}(\\pi-\\theta, \\phi+\\pi)$ Show that those with odd $l$ are odd, and those with even $l$ are even. You can use the functions from last week's homework"
   ]
  },
  {
   "cell_type": "code",
   "execution_count": 2,
   "id": "44a8c422",
   "metadata": {
    "ExecuteTime": {
     "end_time": "2022-09-16T20:14:37.787499Z",
     "start_time": "2022-09-16T20:14:37.727546Z"
    }
   },
   "outputs": [],
   "source": [
    "import scipy.special\n",
    "def Y_lm(l, m, theta, phi):\n",
    "    return scipy.special.sph_harm(m, l, phi, theta)"
   ]
  },
  {
   "cell_type": "markdown",
   "id": "f7936732",
   "metadata": {},
   "source": [
    "# Problem 2 - Dipole matrix elements\n",
    "The rate of the transition from some state $\\left|2\\right>$ to state $\\left|1\\right>$ is proportional to the *electric dipole matrix element*\n",
    "$$ \\left<2\\right| \\vec{r} \\cdot \\hat{e}_\\text{rad} \\left|1\\right>$$\n",
    "\n",
    "1. Calculate the dipole matrix element between the $\\psi_{211}$ state of hydrogen and the ground state ($\\psi_{100}$) for $\\sigma$ polarized radiation. You can use $\\psi_{nlm}(r,\\theta,\\phi)=R_{nl}(r) Y_{lm}(\\theta,\\phi)$ and the definitions of $R_{nl}(r)$ and $Y_{lm}(\\theta,\\phi)$ from last week and perform the integration numerically.\n",
    "2. Calculate the dipole matrix elements between $\\psi_{200}$ and the ground state for $\\pi$ polarized and $\\sigma$ polarized light.\n",
    "3. Calculate the dipole matrix element between $\\psi_{322}$ and $\\psi_{211}$ for $\\pi$ polarized and $\\sigma$ polarized light.\n",
    "\n",
    "**Note: you can calculate the radial and angular part of the integrals separately, and multiply their result together.**"
   ]
  },
  {
   "cell_type": "code",
   "execution_count": 3,
   "id": "035fefc7",
   "metadata": {
    "ExecuteTime": {
     "end_time": "2022-09-16T20:14:37.857184Z",
     "start_time": "2022-09-16T20:14:37.788789Z"
    }
   },
   "outputs": [
    {
     "data": {
      "text/plain": [
       "1.0000000000000104"
      ]
     },
     "execution_count": 3,
     "metadata": {},
     "output_type": "execute_result"
    }
   ],
   "source": [
    "from scipy.integrate import trapezoid\n",
    "from math import factorial\n",
    "\n",
    "def R(n, l, r):\n",
    "    rho = 2*r/n\n",
    "    A = np.sqrt((2/n)**3*factorial(n-l-1)/(2*n*factorial(n+l)))\n",
    "    L = scipy.special.genlaguerre(n-l-1, 2*l+1)\n",
    "    return A * rho**l * np.exp(-rho/2) * L(rho)\n",
    "\n",
    "\n",
    "\n",
    "# you can integrate the radial wavefunction numerically using `trapezoid`\n",
    "r = np.linspace(0, 100, 5000) # we want to integrate from r=0 a0 to r=100 a0 in 5000 steps,\n",
    "trapezoid(r**2 * R(n=2,l=1,r=r)**2, r) \n",
    "# integrate r^2 |R_21|^2 from 0 a0 to 100 a0 numerically. This ought to be 1.\n",
    "\n",
    "# you can calculate a matrix element by integrating `r**2 R(n1,l1,r) * r * R(n2,l2,r)`"
   ]
  },
  {
   "cell_type": "code",
   "execution_count": 4,
   "id": "3b2d44c4",
   "metadata": {
    "ExecuteTime": {
     "end_time": "2022-09-16T20:14:37.862683Z",
     "start_time": "2022-09-16T20:14:37.857977Z"
    }
   },
   "outputs": [
    {
     "data": {
      "text/plain": [
       "(1.0000000126786457-1.2167547344570584e-20j)"
      ]
     },
     "execution_count": 4,
     "metadata": {},
     "output_type": "execute_result"
    }
   ],
   "source": [
    "# you can integrate the angular wavefunction numerically using `trapezoid` twice\n",
    "theta = np.linspace(0, np.pi, 100)\n",
    "phi = np.linspace(0, 2*np.pi, 150)\n",
    "theta2, phi2 = np.meshgrid(theta, phi)\n",
    "trapezoid(\n",
    "    trapezoid(\n",
    "        np.sin(theta2)*Y_lm(1,1,theta2,phi2).conj()*Y_lm(1,1,theta2,phi2),\n",
    "        theta),\n",
    "    phi\n",
    ")\n",
    "\n",
    "# you can calculate a matrix element by integrating, e.g.,\n",
    "# `np.sin(theta2)*Y_lm(l1,m1,theta2,phi2).conj()*cos(theta2)*Y_lm(l2,m2,theta2,phi2)`\n",
    "# you consider a matrix element oriented along the z-direction"
   ]
  },
  {
   "cell_type": "markdown",
   "id": "f34be724",
   "metadata": {},
   "source": [
    "# Problem 3 - Spin-Orbit split Balmer series\n",
    "Consider the following calculated spectrum for the Balmer series of hydrogen (lower state $n'=2$). Currently this is done using the function `Balmer(n)` which only takes into account the gross structure of hydrogen. Modify this function to calculate the transition wavelengths between upper states $(n,l,j)$ and lower states $(n',l',j')$, now taking into account the spin-orbit energy correction:\n",
    "$$ \\Delta E = \\frac{\\alpha^2}{n l(l+1/2)(l+1)} E(n) \\left< \\vec{S}\\cdot\\vec{L}\\right>$$\n",
    "**Note: you need to calculate the correction to *both* the upper and lower states, and then find the shift in the transition wavelength**\n",
    "Make a new figure for the Balmer series, incorportating spin-orbit, for transitions with upper state principal quantum numbers $n'$ 3 through 13, and for lower states with principal quantum number $n=2$. Consider all possible upper and lower state angular momentum. To get started, consider the following:\n",
    "1. What possible values are there for $S$, $L$ and $J$ for the lower state $n=2$?\n",
    "2. What possible transitions are allowed from these states to upper states, taking into account the selection rules $\\Delta l = \\pm1$ and $\\Delta j = 0$ or $\\pm 1$. \n",
    "3. How many different transitions does the $n=2$ to $n'=3$ transition split into?\n",
    "4. Calculate the wavelength of all allowed transitions between $n=2$ and $n'=3$ through $13$. Color the transitions with upper state $l'=0$, $l'=1$, and $l'=2$ lines differently, and label them with their appropriate spectroscopic series."
   ]
  },
  {
   "cell_type": "code",
   "execution_count": 5,
   "id": "c375df43",
   "metadata": {
    "ExecuteTime": {
     "end_time": "2022-09-16T20:14:37.919719Z",
     "start_time": "2022-09-16T20:14:37.863611Z"
    }
   },
   "outputs": [
    {
     "data": {
      "image/png": "[encoded data removed]",
      "text/plain": [
       "<Figure size 864x216 with 1 Axes>"
      ]
     },
     "metadata": {
      "needs_background": "light"
     },
     "output_type": "display_data"
    }
   ],
   "source": [
    "def Balmer(n):\n",
    "    return 1e9/(10973731 * (1/2**2 - 1/n**2))\n",
    "    \n",
    "n = np.arange(3,14)\n",
    "Balmer(n)\n",
    "\n",
    "plt.figure(figsize=(12,3))\n",
    "for line in Balmer(n):\n",
    "    plt.plot([line, line], [0, 1], 'k')\n",
    "plt.xlabel('Wavelength (nm)');\n",
    "plt.title('Hydrogen Balmer Series Lines');"
   ]
  },
  {
   "cell_type": "markdown",
   "id": "ac1e9422",
   "metadata": {},
   "source": [
    "# Problem 4 - Spin-Orbit splitting\n",
    "Consider an atomic state with spectroscopic notation $^5\\text{D}$.\n",
    "1. What are the quantum numbers $S$ and $L$?\n",
    "2. What possibly values can $J$ take?\n",
    "3. Assume the Spin-Orbit interaction can be described by the effective Hamiltonian $H_{SO} = -A \\vec{S} \\cdot \\vec{L}$. Draw a diagram of the different energy levels that $^5\\text{D}$ can split into, and their energies. Label each state with its spectroscopic notation, including $J$. For numerical simplicity, you can assume that $A = h \\times \\text{1 THz}$."
   ]
  },
  {
   "cell_type": "code",
   "execution_count": 6,
   "id": "e58cad6e",
   "metadata": {
    "ExecuteTime": {
     "end_time": "2022-09-16T20:14:38.061246Z",
     "start_time": "2022-09-16T20:14:37.920622Z"
    }
   },
   "outputs": [
    {
     "data": {
      "image/png": "[encoded data removed]",
      "text/plain": [
       "<Figure size 576x360 with 1 Axes>"
      ]
     },
     "metadata": {
      "needs_background": "light"
     },
     "output_type": "display_data"
    }
   ],
   "source": [
    "# Here is some example code you can use to make an attractive figure\n",
    "# edit `energies` and `labels` at will\n",
    "energies = [1, 2, 3] # as an example\n",
    "labels = ['$^{2}D$', '$^{3}S_0$', '???']\n",
    "\n",
    "plt.figure(figsize=(8,5))\n",
    "plt.plot([-2, -1], [0, 0], 'k-')\n",
    "plt.text(-2.3, 0, '$^{5}$D', fontsize=18)\n",
    "for energy, label in zip(energies, labels):\n",
    "    plt.plot([0, 1], [energy, energy], 'k-')\n",
    "    plt.plot([-1, 0], [0, energy], 'k:')\n",
    "    plt.text(1.1, energy, label, fontsize=18)\n",
    "plt.xticks([])\n",
    "plt.xlim(-2.4,1.5)\n",
    "plt.title('Spin-Orbit splitting of $^{5}$D');"
   ]
  },
  {
   "cell_type": "code",
   "execution_count": null,
   "id": "2fff58fa",
   "metadata": {},
   "outputs": [],
   "source": []
  }
 ],
 "metadata": {
  "kernelspec": {
   "display_name": "Python 3 (ipykernel)",
   "language": "python",
   "name": "python3"
  },
  "language_info": {
   "codemirror_mode": {
    "name": "ipython",
    "version": 3
   },
   "file_extension": ".py",
   "mimetype": "text/x-python",
   "name": "python",
   "nbconvert_exporter": "python",
   "pygments_lexer": "ipython3",
   "version": "3.9.13"
  },
  "vscode": {
   "interpreter": {
    "hash": "e80af68df95a31e212cd009ac4ba18d1a695b62c5ba442f5a9e89f02be8b3cbc"
   }
  }
 },
 "nbformat": 4,
 "nbformat_minor": 5
}
