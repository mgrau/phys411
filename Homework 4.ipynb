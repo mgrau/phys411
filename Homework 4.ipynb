{
 "cells": [
  {
   "cell_type": "markdown",
   "id": "9c16a45e",
   "metadata": {},
   "source": [
    "# PHYS 411 - Homework 4\n",
    "Due Tuesday September 27, 2022 at 9:30\n",
    "\n",
    "You can use these buttons below to launch this Jupyter notebook in either [binder](https://mybinder.org/) or [Colab](https://colab.research.google.com/).\n",
    "\n",
    "[![Open in Binder](https://mybinder.org/badge_logo.svg)](http://beta.mybinder.org/v2/gh/mgrau/phys411/main?urlpath=%2Ftree/Homework%204.ipynb)\n",
    "\n",
    "[![Open In Colab](https://colab.research.google.com/assets/colab-badge.svg)](https://colab.research.google.com/github/mgrau/phys411/blob/main/Homework%204.ipynb)\n",
    "\n",
    "When you are finished with your work, please print to a PDF file and submit via canvas. For full credit please be sure to clearly explain what you are doing."
   ]
  },
  {
   "cell_type": "code",
   "execution_count": 1,
   "id": "760e7799",
   "metadata": {
    "ExecuteTime": {
     "end_time": "2022-09-21T03:26:03.121002Z",
     "start_time": "2022-09-21T03:26:02.522991Z"
    }
   },
   "outputs": [],
   "source": [
    "import matplotlib.pyplot as plt\n",
    "import numpy as np\n",
    "import scipy.special\n",
    "from scipy.integrate import trapezoid"
   ]
  },
  {
   "cell_type": "markdown",
   "id": "47db5606",
   "metadata": {},
   "source": [
    "# Problem 1 - Ground state configuration\n",
    "Write the ground state configuration of singly ionized strontium (Sr$^+$). What is the configuration of the first excited state?"
   ]
  },
  {
   "cell_type": "markdown",
   "id": "5f136f18",
   "metadata": {},
   "source": [
    "# Problem 2 - Hydrogen-like ion radial wavefunctions\n",
    "1. Modify the hydrogen radial wavefunction `R(n,l)` to also depend on proton number $Z$. You can check your answer against `plot_radial`, which will solve the radial Schrodinger equation to get the radial wavefunction.\n",
    "2. Use your function to plot the radial probability distribution of the 4p state in H, Li$^{2+}$ and C$^{5+}$.\n",
    "3. Calculate the expectation value of $\\left<r\\right>$ of the 4p state for H, Li$^{2+}$ and C$^{5+}$. Comment on your findings."
   ]
  },
  {
   "cell_type": "code",
   "execution_count": 2,
   "id": "5da18eb5",
   "metadata": {
    "ExecuteTime": {
     "end_time": "2022-09-21T03:26:03.123973Z",
     "start_time": "2022-09-21T03:26:03.121776Z"
    }
   },
   "outputs": [],
   "source": [
    "from math import factorial\n",
    "def R(n, l, r):\n",
    "    rho = 2*r/n\n",
    "    A = np.sqrt((2/n)**3*factorial(n-l-1)/(2*n*factorial(n+l)))\n",
    "    L = scipy.special.genlaguerre(n-l-1, 2*l+1)\n",
    "    return A * rho**l * np.exp(-rho/2) * L(rho)"
   ]
  },
  {
   "cell_type": "code",
   "execution_count": 3,
   "id": "261b06cc",
   "metadata": {
    "ExecuteTime": {
     "end_time": "2022-09-21T03:26:03.275516Z",
     "start_time": "2022-09-21T03:26:03.125218Z"
    }
   },
   "outputs": [
    {
     "data": {
      "image/png": "[encoded data removed]",
      "text/plain": [
       "<Figure size 432x288 with 1 Axes>"
      ]
     },
     "metadata": {
      "needs_background": "light"
     },
     "output_type": "display_data"
    }
   ],
   "source": [
    "from scipy.integrate import solve_ivp, trapezoid\n",
    "\n",
    "def plot_radial(Z, n, l, r):\n",
    "    def dP(rho, P, n, l):\n",
    "        return np.array([P[1], (l*(l+1)/rho**2+1-2*n/rho) * P[0]])\n",
    "\n",
    "    rho = Z*r/n\n",
    "    rho = rho[::-1] \n",
    "    sol = solve_ivp(dP, t_span=[rho[0], rho[-1]], t_eval=rho, y0=[0, 1], args=(n, l))\n",
    "    P = sol.y[0][::-1]\n",
    "    R = P/r\n",
    "    R /= np.sqrt(trapezoid(r**2*R**2,r))\n",
    "    plt.plot(r, r**2*R**2)\n",
    "  \n",
    "r = np.linspace(0.01, 20, 1000)\n",
    "plot_radial(Z=4, n=3, l=1, r=r)\n",
    "plt.xlabel(r'$r$ ($a_0$)', fontsize=16);\n",
    "plt.title(r'radial wavefunction of Be$^{3+}$', fontsize=16);"
   ]
  },
  {
   "cell_type": "markdown",
   "id": "f93dbd65",
   "metadata": {},
   "source": [
    "# Problem 3 - Quantum defect of Potassium\n",
    "I've given you the binding energy of various energy levels (in units of eV) of potassium, grouped by different valence electron orbital angular momentum.\n",
    "\n",
    "1. Write down the configuration of the ground state of potassium\n",
    "2. Plot the energy levels of potassium, with energy on the vertical axis, and orbital angular momentum on the horizontal axis. Subtract off the first ionization energy (IE=4.34066373 eV), such that the ground state energy is at 0 eV. Represent each state as a horizontal line. What is the configuration of the lowest energy level in each series (What are the quantum numbers $n$ and $l$)?\n",
    "3. Each of these series of states can be characetized by a *quantum defect*, according to the formula\n",
    "$$\n",
    "E_{nl} = -\\frac{\\text{Ry}}{(n-\\delta_l)^2}\n",
    "$$\n",
    "where $\\text{Ry}$ is the Rydberg constant in units of eV. Calculate the quantum defects $\\delta_s$, $\\delta_p$, $\\delta_d$, and $\\delta_f$ for potassium. \n",
    "**Hint: one potential way to do this is to plot $n$ on the vertical axis and $\\sqrt{-E}$ on the horizontal axis. You should get a straight line. If you fit this line using `np.polyfit(x,y,1)` you should be able to extract the quantum defect.**"
   ]
  },
  {
   "cell_type": "code",
   "execution_count": 4,
   "id": "34871a66",
   "metadata": {
    "ExecuteTime": {
     "end_time": "2022-09-21T03:26:03.280144Z",
     "start_time": "2022-09-21T03:26:03.276145Z"
    }
   },
   "outputs": [],
   "source": [
    "IE = 4.34066373\n",
    "\n",
    "data = {\n",
    "    \"s\": [\n",
    "        -4.34066373,\n",
    "        -1.7337036300000004,\n",
    "        -0.9372094300000002,\n",
    "        -0.5871352300000003,\n",
    "        -0.40225893000000035,\n",
    "        -0.2927840900000005,\n",
    "        -0.22262446000000047,\n",
    "        -0.17497323999999992,\n",
    "        -0.14113558000000026,\n",
    "        -0.11624444999999994,\n",
    "    ],\n",
    "    \"p\": [\n",
    "        -2.7259357760333334,\n",
    "        -1.2765323300000002,\n",
    "        -0.7445147300000001,\n",
    "        -0.48811472999999994,\n",
    "        -0.3447500633333336,\n",
    "        -0.25645662999999974,\n",
    "        -0.19822649666666692,\n",
    "        -0.15780243000000027,\n",
    "        -0.12859666333333397,\n",
    "        -0.10680996333333326,\n",
    "    ],\n",
    "    \"d\": [\n",
    "        -1.6705892500000004,\n",
    "        -0.9438060500000005,\n",
    "        -0.59814547,\n",
    "        -0.41085977000000007,\n",
    "        -0.2989833940000004,\n",
    "        -0.22709450600000025,\n",
    "        -0.17825562000000073,\n",
    "        -0.14359849199999974,\n",
    "        -0.11813159400000028,\n",
    "        -0.09887615400000005,\n",
    "    ],\n",
    "    \"f\": [\n",
    "        -0.8532547300000002,\n",
    "        -0.54591273,\n",
    "        -0.37897573000000007,\n",
    "        -0.27834673,\n",
    "        -0.21305572999999978,\n",
    "        -0.16830773000000043,\n",
    "        -0.1363077300000004,\n",
    "        -0.11263372999999977,\n",
    "        -0.09465473000000024,\n",
    "        -0.08064573000000053,\n",
    "    ],\n",
    "}"
   ]
  },
  {
   "cell_type": "markdown",
   "id": "7e7e9eaa",
   "metadata": {},
   "source": [
    "# Problem 4 - Spherical Shells\n",
    "Show that $\\sum_{m=-l}^l \\left| Y_{lm}(\\theta,\\phi)\\right|^2$ is spherically symmetric. Show this for the specific cases of $l=1$ and $l=2$. **Hint: You might do this by plotting the sum of the magnitudes of the spherical harmonic functiosn in 3d**"
   ]
  }
 ],
 "metadata": {
  "kernelspec": {
   "display_name": "Python 3 (ipykernel)",
   "language": "python",
   "name": "python3"
  },
  "language_info": {
   "codemirror_mode": {
    "name": "ipython",
    "version": 3
   },
   "file_extension": ".py",
   "mimetype": "text/x-python",
   "name": "python",
   "nbconvert_exporter": "python",
   "pygments_lexer": "ipython3",
   "version": "3.9.13"
  },
  "vscode": {
   "interpreter": {
    "hash": "e80af68df95a31e212cd009ac4ba18d1a695b62c5ba442f5a9e89f02be8b3cbc"
   }
  }
 },
 "nbformat": 4,
 "nbformat_minor": 5
}
