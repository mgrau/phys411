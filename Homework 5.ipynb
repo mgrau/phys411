{
 "cells": [
  {
   "cell_type": "markdown",
   "id": "9c16a45e",
   "metadata": {},
   "source": [
    "# PHYS 411 - Homework 5\n",
    "Due Tuesday October 4, 2022 at 9:30\n",
    "\n",
    "You can use these buttons below to launch this Jupyter notebook in either [binder](https://mybinder.org/) or [Colab](https://colab.research.google.com/).\n",
    "\n",
    "[![Open in Binder](https://mybinder.org/badge_logo.svg)](http://beta.mybinder.org/v2/gh/mgrau/phys411/main?urlpath=%2Ftree/Homework%205.ipynb)\n",
    "\n",
    "[![Open In Colab](https://colab.research.google.com/assets/colab-badge.svg)](https://colab.research.google.com/github/mgrau/phys411/blob/main/Homework%205.ipynb)\n",
    "\n",
    "When you are finished with your work, please print to a PDF file and submit via canvas. For full credit please be sure to clearly explain what you are doing."
   ]
  },
  {
   "cell_type": "markdown",
   "id": "f6da1864",
   "metadata": {},
   "source": [
    "## NIST ASD\n",
    "For many of these problems I will refer to you data in the [NIST Atomic Spectra Database](https://physics.nist.gov/PhysRefData/ASD/levels_form.html). There are a couple peculiarities to note when using this tool.\n",
    "1. The default energy is in cm$^{-1}$. You can also choose eV and Ry, but you have to choose this in the drop down menu. **Note: Ry are not the atomic units of energy. They are related to the atomic unit of energy (Hartrees) by a factor of 1/2 (e.g. 13.6 eV = 1 Ry = 0.5 hartree**.\n",
    "2. To search for the energy levels of an atom, you need to specify both the atomic symbol (e.g. Ca) and the charge state (in roman numerals). For example, to look up a neutral atom, you use the charge state (I)\n",
    "- alkali atoms: [\\[Li\\]](https://physics.nist.gov/cgi-bin/ASD/energy1.pl?de=0&spectrum=Li+i&submit=Retrieve+Data&units=1&format=0&output=0&page_size=15&multiplet_ordered=0&conf_out=on&term_out=on&level_out=on&unc_out=1&j_out=on&lande_out=on&perc_out=on&biblio=on&temp=)\n",
    "[\\[Na\\]](https://physics.nist.gov/cgi-bin/ASD/energy1.pl?de=0&spectrum=Na+i&submit=Retrieve+Data&units=1&format=0&output=0&page_size=15&multiplet_ordered=0&conf_out=on&term_out=on&level_out=on&unc_out=1&j_out=on&lande_out=on&perc_out=on&biblio=on&temp=)\n",
    "[\\[K\\]](https://physics.nist.gov/cgi-bin/ASD/energy1.pl?de=0&spectrum=K+i&submit=Retrieve+Data&units=1&format=0&output=0&page_size=15&multiplet_ordered=0&conf_out=on&term_out=on&level_out=on&unc_out=1&j_out=on&lande_out=on&perc_out=on&biblio=on&temp=)\n",
    "[\\[Rb\\]](https://physics.nist.gov/cgi-bin/ASD/energy1.pl?de=0&spectrum=Rb+i&submit=Retrieve+Data&units=1&format=0&output=0&page_size=15&multiplet_ordered=0&conf_out=on&term_out=on&level_out=on&unc_out=1&j_out=on&lande_out=on&perc_out=on&biblio=on&temp=)\n",
    "[\\[Cs\\]](https://physics.nist.gov/cgi-bin/ASD/energy1.pl?de=0&spectrum=Cs+i&submit=Retrieve+Data&units=1&format=0&output=0&page_size=15&multiplet_ordered=0&conf_out=on&term_out=on&level_out=on&unc_out=1&j_out=on&lande_out=on&perc_out=on&biblio=on&temp=)\n",
    "- alkali-like ions:\n",
    "[\\[Be$^+$\\]](https://physics.nist.gov/cgi-bin/ASD/energy1.pl?de=0&spectrum=Be+ii&submit=Retrieve+Data&units=1&format=0&output=0&page_size=15&multiplet_ordered=0&conf_out=on&term_out=on&level_out=on&unc_out=1&j_out=on&lande_out=on&perc_out=on&biblio=on&temp=)\n",
    "[\\[Mg$^+$\\]](https://physics.nist.gov/cgi-bin/ASD/energy1.pl?de=0&spectrum=Mg+ii&submit=Retrieve+Data&units=1&format=0&output=0&page_size=15&multiplet_ordered=0&conf_out=on&term_out=on&level_out=on&unc_out=1&j_out=on&lande_out=on&perc_out=on&biblio=on&temp=)\n",
    "[\\[Ca$^+$\\]](https://physics.nist.gov/cgi-bin/ASD/energy1.pl?de=0&spectrum=Ca+ii&submit=Retrieve+Data&units=1&format=0&output=0&page_size=15&multiplet_ordered=0&conf_out=on&term_out=on&level_out=on&unc_out=1&j_out=on&lande_out=on&perc_out=on&biblio=on&temp=)\n",
    "[\\[Sr$^+$\\]](https://physics.nist.gov/cgi-bin/ASD/energy1.pl?de=0&spectrum=Sr+ii&submit=Retrieve+Data&units=1&format=0&output=0&page_size=15&multiplet_ordered=0&conf_out=on&term_out=on&level_out=on&unc_out=1&j_out=on&lande_out=on&perc_out=on&biblio=on&temp=)\n",
    "[\\[Ba$^+$\\]](https://physics.nist.gov/cgi-bin/ASD/energy1.pl?de=0&spectrum=Ba+ii&submit=Retrieve+Data&units=1&format=0&output=0&page_size=15&multiplet_ordered=0&conf_out=on&term_out=on&level_out=on&unc_out=1&j_out=on&lande_out=on&perc_out=on&biblio=on&temp=)\n",
    "- hydrogen-like ions:\n",
    "[\\[He$^+$\\]](https://physics.nist.gov/cgi-bin/ASD/energy1.pl?de=0&spectrum=He+H-like&submit=Retrieve+Data&units=1&format=0&output=0&page_size=15&multiplet_ordered=0&conf_out=on&term_out=on&level_out=on&unc_out=1&j_out=on&lande_out=on&perc_out=on&biblio=on&temp=)\n",
    "[\\[Li$^{2+}$\\]](https://physics.nist.gov/cgi-bin/ASD/energy1.pl?de=0&spectrum=Li+H-like&submit=Retrieve+Data&units=1&format=0&output=0&page_size=15&multiplet_ordered=0&conf_out=on&term_out=on&level_out=on&unc_out=1&j_out=on&lande_out=on&perc_out=on&biblio=on&temp=)\n",
    "[\\[Be$^{3+}$\\]](https://physics.nist.gov/cgi-bin/ASD/energy1.pl?de=0&spectrum=Be+H-like&submit=Retrieve+Data&units=1&format=0&output=0&page_size=15&multiplet_ordered=0&conf_out=on&term_out=on&level_out=on&unc_out=1&j_out=on&lande_out=on&perc_out=on&biblio=on&temp=)\n",
    "[\\[B$^{4+}$\\]](https://physics.nist.gov/cgi-bin/ASD/energy1.pl?de=0&spectrum=B+H-like&submit=Retrieve+Data&units=1&format=0&output=0&page_size=15&multiplet_ordered=0&conf_out=on&term_out=on&level_out=on&unc_out=1&j_out=on&lande_out=on&perc_out=on&biblio=on&temp=)\n",
    "[\\[C$^{5+}$\\]](https://physics.nist.gov/cgi-bin/ASD/energy1.pl?de=0&spectrum=C+H-like&submit=Retrieve+Data&units=1&format=0&output=0&page_size=15&multiplet_ordered=0&conf_out=on&term_out=on&level_out=on&unc_out=1&j_out=on&lande_out=on&perc_out=on&biblio=on&temp=)"
   ]
  },
  {
   "cell_type": "markdown",
   "id": "574a1b42",
   "metadata": {},
   "source": [
    "# Problem 1 - Fine splitting\n",
    "Use the NIST Atomic Spectra Database to look up the fine-splitting between the lowest $^2\\text{P}_{1/2}$ and $^2\\text{P}_{3/2}$ states of the first five neutral alkali atoms (Li, Na, K, Rb, and Cs), the first five singly-ionized alkali-like ions (Be$^+$, Mg$^+$, Ca$^+$, Sr$^+$, and Ba$^+$), and the first five hydrogen-like ions (He$^+$, Li$^{2+}$, Be$^{3+}$, B$^{4+}$, and C$^{5+}$). Plot each of these energies on the vertical axis against $Z$ or a power of $Z$ on the horizontal axis.\n",
    "\n",
    "1. How does the splitting in the neutral alkali atoms scale with $Z$?\n",
    "2. How does the splitting in the singly-ionized alkali-like atoms scale with $Z$?\n",
    "3. How does the splitting in the hydrogen-like ions scale with $Z$?\n",
    "4. How does the splitting in the neutral alkali atoms compare to the singly-ionized atoms?"
   ]
  },
  {
   "cell_type": "markdown",
   "id": "8c00f222",
   "metadata": {},
   "source": [
    "# Problem 2 - LS coupling selection rules\n",
    "In Russell–Saunders coupling (LS coupling), what are the rules for which pairs of states can be connected by an electric dipole transition? Which of these rules are rigorous, and which depend on the validity of the coupling assumption.\n",
    "\n",
    "1. Give a physical justification for three of these rules.\n",
    "2. Which of the following transitions are allowed electric-dipole transitions?\n",
    "- 1s2s $^3\\text{S}_1$ $\\leftrightarrow$ 1s3d $^3\\text{D}_1$,\n",
    "- 1s2p $^3\\text{P}_1$ $\\leftrightarrow$ 1s3d $^3\\text{D}_3$,\n",
    "- 2s2p $^3\\text{P}_1$ $\\leftrightarrow$ 2p$^2$ $^3\\text{P}_1$,\n",
    "- 3p$^2$ $^3\\text{P}_1$ $\\leftrightarrow$ 3p$^2$ $^3\\text{P}_2$,\n",
    "- 3p$^6$ $^1\\text{S}_0$ $\\leftrightarrow$ 3p$^5$3d $^1\\text{D}_2$"
   ]
  },
  {
   "cell_type": "markdown",
   "id": "544855e1",
   "metadata": {},
   "source": [
    "# Problem 3 - Helium\n",
    "In helium, the $1s2p$ configuration splits into two different spectroscopic terms, the $^{1}\\text{S}$ and the $^{3}\\text{S}$ that are separated by about 0.25 eV of energy. Why?"
   ]
  },
  {
   "cell_type": "markdown",
   "id": "196f026a",
   "metadata": {},
   "source": [
    "# Problem 4 - Helium spin splitting\n",
    "Use the NIST Atomic Spectra Database to look up the energy levels for [\\[He\\]](https://physics.nist.gov/cgi-bin/ASD/energy1.pl?de=0&spectrum=He+i&submit=Retrieve+Data&units=1&format=0&output=0&page_size=15&multiplet_ordered=0&conf_out=on&term_out=on&level_out=on&unc_out=1&j_out=on&lande_out=on&perc_out=on&biblio=on&temp=). Compare the energy difference between the singlet and triplet states (ignore the spin-orbit splitting in the triplet states) for different principal quantum number $n$ and orbital angular momentum quantum number $l$ of the excited configuration $1snl$.\n",
    "1. How does the singlet-triplet splitting change as $n$ increases? Give an example.\n",
    "2. How does the singlet-triplet splitting change as $l$ increases? Give an example.\n",
    "3. Is the singlet or triplet state higher in energy? Why?\n",
    "4. Why does the triplet state have spin-orbit splitting, but the signlet state not?\n",
    "\n",
    "*Hint: you can look these up, but I've tabulated some of these values below*"
   ]
  },
  {
   "cell_type": "code",
   "execution_count": 1,
   "id": "31f237ce",
   "metadata": {
    "ExecuteTime": {
     "end_time": "2022-09-28T01:33:02.783083Z",
     "start_time": "2022-09-28T01:33:02.774235Z"
    }
   },
   "outputs": [],
   "source": [
    "helium = [\n",
    "    {'configuration': '1s2', 'energy': 0.0, 'term': '1S'},\n",
    "    {'configuration': '1s2s', 'energy': 19.81961484203, 'term': '3S'},\n",
    "    {'configuration': '1s2s', 'energy': 20.6157751334, 'term': '1S'},\n",
    "    {'configuration': '1s2p', 'energy': 20.9640966823, 'term': '3P'},\n",
    "    {'configuration': '1s2p', 'energy': 21.2180230218, 'term': '1P'},\n",
    "    {'configuration': '1s3s', 'energy': 22.718466742, 'term': '3S'},\n",
    "    {'configuration': '1s3s', 'energy': 22.920317682, 'term': '1S'},\n",
    "    {'configuration': '1s3p', 'energy': 23.0070761918, 'term': '3P'},\n",
    "    {'configuration': '1s3d', 'energy': 23.07365682165, 'term': '3D'},\n",
    "    {'configuration': '1s3d', 'energy': 23.07407511941, 'term': '1D'},\n",
    "    {'configuration': '1s3p', 'energy': 23.0870188528, 'term': '1P'},\n",
    "    {'configuration': '1s4s', 'energy': 23.593959036, 'term': '3S'},\n",
    "    {'configuration': '1s4s', 'energy': 23.6735709133, 'term': '1S'},\n",
    "    {'configuration': '1s4p', 'energy': 23.7078926664, 'term': '3P'},\n",
    "    {'configuration': '1s4d', 'energy': 23.73609295768, 'term': '3D'},\n",
    "    {'configuration': '1s4d', 'energy': 23.73633535786, 'term': '1D'},\n",
    "    {'configuration': '1s4p', 'energy': 23.7420703918, 'term': '1P'},\n",
    "    {'configuration': '1s5s', 'energy': 23.9719717413, 'term': '3S'},\n",
    "    {'configuration': '1s5s', 'energy': 24.0112153129, 'term': '1S'},\n",
    "    {'configuration': '1s5p', 'energy': 24.0282259477, 'term': '3P'},\n",
    "    {'configuration': '1s5d', 'energy': 24.042663817021, 'term': '3D'},\n",
    "    {'configuration': '1s5d', 'energy': 24.04280373493, 'term': '1D'},\n",
    "    {'configuration': '1s5p', 'energy': 24.0458007297, 'term': '1P'},\n",
    "    {'configuration': '1s6s', 'energy': 24.1689985463, 'term': '3S'},\n",
    "    {'configuration': '1s6s', 'energy': 24.1911605982, 'term': '1S'},\n",
    "    {'configuration': '1s6p', 'energy': 24.2008160981, 'term': '3P'},\n",
    "    {'configuration': '1s6d', 'energy': 24.209164158016, 'term': '3D'},\n",
    "    {'configuration': '1s6d', 'energy': 24.209250116893, 'term': '1D'},\n",
    "    {'configuration': '1s6p', 'energy': 24.2110030003, 'term': '1P'},\n",
    "    {'configuration': '1s7s', 'energy': 24.2845663599, 'term': '3S'},\n",
    "    {'configuration': '1s7s', 'energy': 24.2982862291, 'term': '1S'},\n",
    "    {'configuration': '1s7p', 'energy': 24.30428972472, 'term': '3P'},\n",
    "    {'configuration': '1s7d', 'energy': 24.309541676627, 'term': '3D'},\n",
    "    {'configuration': '1s7d', 'energy': 24.309597704313, 'term': '1D'},\n",
    "    {'configuration': '1s7p', 'energy': 24.31070850185, 'term': '1P'},\n",
    "    {'configuration': '1s8s', 'energy': 24.3581044672, 'term': '3S'},\n",
    "    {'configuration': '1s8s', 'energy': 24.3671804009, 'term': '1S'},\n",
    "    {'configuration': '1s8p', 'energy': 24.3711663372, 'term': '3P'},\n",
    "    {'configuration': '1s8d', 'energy': 24.374681508803, 'term': '3D'},\n",
    "    {'configuration': '1s8d', 'energy': 24.374719867558, 'term': '1D'},\n",
    "    {'configuration': '1s8p', 'energy': 24.37546702047, 'term': '1P'},\n",
    "    {'configuration': '1s9s', 'energy': 24.40777570227, 'term': '3S'},\n",
    "    {'configuration': '1s9s', 'energy': 24.41408840062, 'term': '1S'},\n",
    "    {'configuration': '1s9p', 'energy': 24.41686930227, 'term': '3P'},\n",
    "    {'configuration': '1s9d', 'energy': 24.419336102843, 'term': '3D'},\n",
    "    {'configuration': '1s9d', 'energy': 24.419363440351, 'term': '1D'},\n",
    "    {'configuration': '1s9p', 'energy': 24.41988963744, 'term': '1P'},\n",
    "    {'configuration': '1s10s', 'energy': 24.44289372042, 'term': '3S'},\n",
    "    {'configuration': '1s10s', 'energy': 24.44746034222, 'term': '1S'},\n",
    "    {'configuration': '1s10p', 'energy': 24.44947728263, 'term': '3P'},\n",
    "    {'configuration': '1s10d', 'energy': 24.451274291635, 'term': '3D'},\n",
    "    {'configuration': '1s10d', 'energy': 24.451294427543, 'term': '1D'},\n",
    "    {'configuration': '1s10p', 'energy': 24.4516787825, 'term': '1P'}\n",
    "]"
   ]
  }
 ],
 "metadata": {
  "kernelspec": {
   "display_name": "Python 3 (ipykernel)",
   "language": "python",
   "name": "python3"
  },
  "language_info": {
   "codemirror_mode": {
    "name": "ipython",
    "version": 3
   },
   "file_extension": ".py",
   "mimetype": "text/x-python",
   "name": "python",
   "nbconvert_exporter": "python",
   "pygments_lexer": "ipython3",
   "version": "3.9.13"
  },
  "vscode": {
   "interpreter": {
    "hash": "e80af68df95a31e212cd009ac4ba18d1a695b62c5ba442f5a9e89f02be8b3cbc"
   }
  }
 },
 "nbformat": 4,
 "nbformat_minor": 5
}
