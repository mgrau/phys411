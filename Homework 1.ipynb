{
 "cells": [
  {
   "cell_type": "markdown",
   "id": "9c16a45e",
   "metadata": {},
   "source": [
    "# Getting Started\n",
    "You can use these buttons below to launch this Jupyter notebook in either [binder](https://mybinder.org/) or [Colab](https://colab.research.google.com/). Play around with each service, they have their own advantages. Colab will startup faster, but you may have to install your own dependencies using the `!pip` command. You will also need to be signed in with a google account. Binder doesn't require any account to use, but it does take sometimes several minutes to startup.\n",
    "\n",
    "[![Open in Binder](https://mybinder.org/badge_logo.svg)](http://beta.mybinder.org/v2/gh/mgrau/phys411/main?urlpath=%2Ftree/Homework%201.ipynb)\n",
    "\n",
    "[![Open In Colab](https://colab.research.google.com/assets/colab-badge.svg)](https://colab.research.google.com/github/mgrau/phys411/blob/main/Homework%201.ipynb)\n",
    "\n",
    "You can also download and run this notebook on your own computer, provided you have a suitable Python installation."
   ]
  },
  {
   "attachments": {
    "image-2.png": {
     "image/png": "[encoded data removed]"
    },
    "image.png": {
     "image/png": "[encoded data removed]"
    }
   },
   "cell_type": "markdown",
   "id": "5b686905",
   "metadata": {
    "ExecuteTime": {
     "end_time": "2022-08-30T03:41:39.934792Z",
     "start_time": "2022-08-30T03:41:39.925733Z"
    }
   },
   "source": [
    "## Introduction to Jupyter Notebooks\n",
    "\n",
    "Jupyter notebooks are an interactive document that can contain rich text (like you are reading now), as well as code (like you may see in the block below). In this class we will be using them to perform calculations for your homework assignments, plot figures, and write text to document your work.\n",
    "\n",
    "Below this cell you will see a block of Python code. You can run it either by selecting the cell and clicking the Run button\n",
    "![image.png](attachment:image.png)\n",
    "or in Colab clicking the triagle to the left of the cell\n",
    "![image-2.png](attachment:image-2.png)\n",
    "You can also select the cell and press `Ctrl-Enter`. You should see the output of the cell printed below."
   ]
  },
  {
   "cell_type": "code",
   "execution_count": 1,
   "id": "9641c304",
   "metadata": {
    "ExecuteTime": {
     "end_time": "2022-08-30T06:55:29.920662Z",
     "start_time": "2022-08-30T06:55:29.901715Z"
    }
   },
   "outputs": [
    {
     "data": {
      "text/plain": [
       "6.28"
      ]
     },
     "execution_count": 1,
     "metadata": {},
     "output_type": "execute_result"
    }
   ],
   "source": [
    "x = 3.14\n",
    "y = 2 * x\n",
    "y"
   ]
  },
  {
   "cell_type": "markdown",
   "id": "b76d4c89",
   "metadata": {},
   "source": [
    "## Plotting with Matplotlib\n",
    "For some of the problems below you will need to import matplotlib by running the following `import` command, which imports the `pyplot` module from the `matplotlib` library and renames it to the shorter variable `plt` for our convienence (this is somewhat of a convention)."
   ]
  },
  {
   "cell_type": "code",
   "execution_count": 2,
   "id": "ed3d7a33",
   "metadata": {
    "ExecuteTime": {
     "end_time": "2022-08-30T06:55:48.104671Z",
     "start_time": "2022-08-30T06:55:47.684546Z"
    }
   },
   "outputs": [],
   "source": [
    "import matplotlib.pyplot as plt"
   ]
  },
  {
   "cell_type": "markdown",
   "id": "8fafe59f",
   "metadata": {},
   "source": [
    "# Problem 1 - Atomic Units\n",
    "\n",
    "Calculate the following quantities in atomic units:\n",
    "\n",
    "- The diameter of the Earth\n",
    "- The speed of sound\n",
    "- The rest mass of the electron $E = m_e c^2$\n",
    "- The acceleration due to gravity at the earth's surface\n",
    "- The frequency of the standard tuning pitch A440 (440 Hz)"
   ]
  },
  {
   "cell_type": "markdown",
   "id": "2ec06003",
   "metadata": {
    "ExecuteTime": {
     "end_time": "2022-08-30T05:47:45.254421Z",
     "start_time": "2022-08-30T05:47:45.248387Z"
    }
   },
   "source": [
    "You might find the unit conversion library [`pint`](https://pint.readthedocs.io/en/stable/) a useful tool for this problem. On Colab you will need to install it by running the following cell"
   ]
  },
  {
   "cell_type": "code",
   "execution_count": null,
   "id": "dfc72303",
   "metadata": {},
   "outputs": [],
   "source": [
    "!pip install pint"
   ]
  },
  {
   "cell_type": "markdown",
   "id": "8620292d",
   "metadata": {},
   "source": [
    "You can use `pint` by importing it, creating what is called a unit registry, and then using this for unit conversions. I'll include some examples below"
   ]
  },
  {
   "cell_type": "code",
   "execution_count": 3,
   "id": "47fc7a33",
   "metadata": {
    "ExecuteTime": {
     "end_time": "2022-08-30T06:55:50.798977Z",
     "start_time": "2022-08-30T06:55:50.674837Z"
    }
   },
   "outputs": [
    {
     "name": "stdout",
     "output_type": "stream",
     "text": [
      "0.30479999999999996 meter\n",
      "17279655683.546116 bohr\n",
      "17279655683.546116 bohr\n",
      "5.547499678235289e-13 speed_of_light\n",
      "7.602071608227138e-11 bohr / atomic_unit_of_time\n"
     ]
    }
   ],
   "source": [
    "import pint\n",
    "u = pint.UnitRegistry(system='atomic')\n",
    "\n",
    "print(u('1 foot').to('meters'))\n",
    "print(u('1 yard').to('a0'))\n",
    "print(u('1 yard').to_base_units())\n",
    "print(u('1 furlong / fortnight').to('c'))\n",
    "print(u('1 furlong / fortnight').to_base_units())"
   ]
  },
  {
   "cell_type": "markdown",
   "id": "557aca0c",
   "metadata": {},
   "source": [
    "# Problem 2 - Hydrogen Gross Structure\n",
    "\n",
    "Write a function that will predict the wavelength of light emitted by a hydrogen atom when it decays from a level with principal quantum number `np` ($n'$) to principal quantum number `n`.\n",
    "\n",
    "Use this function to create two figures, one comparing the calculated wavelength with the measured wavelength of the hydrogen Lyman series (given below), and another "
   ]
  },
  {
   "cell_type": "code",
   "execution_count": null,
   "id": "d1d932e4",
   "metadata": {},
   "outputs": [],
   "source": [
    "def wavelength(n, np):\n",
    "    return # write an expression here to calculate the wavelength."
   ]
  },
  {
   "cell_type": "code",
   "execution_count": 56,
   "id": "4685a67f",
   "metadata": {
    "ExecuteTime": {
     "end_time": "2022-08-30T04:55:43.296329Z",
     "start_time": "2022-08-30T04:55:43.281506Z"
    }
   },
   "outputs": [
    {
     "ename": "IndentationError",
     "evalue": "expected an indented block (160007992.py, line 22)",
     "output_type": "error",
     "traceback": [
      "\u001b[0;36m  Input \u001b[0;32mIn [56]\u001b[0;36m\u001b[0m\n\u001b[0;31m    plt.xlabel('Upper state principal quantum number (n')')\u001b[0m\n\u001b[0m    ^\u001b[0m\n\u001b[0;31mIndentationError\u001b[0m\u001b[0;31m:\u001b[0m expected an indented block\n"
     ]
    }
   ],
   "source": [
    "# Hydrogen Lyman series data, in the form (n', n, wavelength (nm))\n",
    "lyman = [\n",
    "    (1, 2, 121.56701),\n",
    "    (1, 3, 102.57220),\n",
    "    (1, 4, 97.253650),\n",
    "    (1, 5, 94.974287),\n",
    "    (1, 6, 93.780331),\n",
    "    (1, 7, 93.0748142),\n",
    "    (1, 8, 92.6225605),\n",
    "    (1, 9, 92.3150275),\n",
    "    (1, 10, 92.0963006),\n",
    "    (1, 11, 91.9351334)\n",
    "]\n",
    "\n",
    "for n, np, measured_wavelength in lyman:\n",
    "    plt.plot(measured_wavelength, wavelength(n, np), 'ko')\n",
    "plt.xlabel('Measured Wavelength (nm)')\n",
    "plt.xlabel('Calculated Wavelength (nm)')\n",
    "\n",
    "for n, np, measured_wavelength in lyman:\n",
    "    #plt.plot(np, ... complete this line\n",
    "plt.xlabel('Upper state principal quantum number \\(n'\\)')\n",
    "plt.xlabel('Measured Wavelength - Calculated Wavelength (nm)')"
   ]
  },
  {
   "cell_type": "markdown",
   "id": "449d27f2",
   "metadata": {},
   "source": [
    "# Problem 3 - Isotope Shift\n",
    "For a nucleus with finite mass $M$ the equations of motion of the atom are no longer determined by the mass of the electron, but the reduced mass of the nucleus-electron system,\n",
    "$$ \\mu = \\frac{m_e M}{m_e + M} $$\n",
    "define two new functions `wavelength_H(n, np)` and `wavelength_D(n, np)` for the wavelength of hydrogen and the wavelength of deuterium, using the correction of the reduced mass to the Rydberg constant. Plot the isotope shift in units of GHz as a function of principal quantum number $n$."
   ]
  },
  {
   "cell_type": "markdown",
   "id": "679b0532",
   "metadata": {},
   "source": [
    "# Problem 4 - Radiative Decay\n",
    "\n",
    "The classical radiative lifetime $\\tau$ is given by the time it takes an electric dipole $e x_0$  oscillating at frequency $\\omega$ and radiating power\n",
    "$$P = \\frac{e^2 x_0^2 \\omega^4}{12 \\pi \\epsilon_0 c^3}$$\n",
    "to dissipate the classical harmonic oscillator energy $E = \\frac{1}{2} m_e \\omega^2 x_0^2$.\n",
    "$$\\tau = \\frac{E}{P} = \\frac{\\frac{1}{2} m_e \\omega^2 x_0^2}{\\frac{e^2 x_0^2 \\omega^4}{12 \\pi \\epsilon_0 c^3}} = \\frac{6 \\pi \\epsilon_0 m_e c^3}{e^2 \\omega^2}$$\n",
    "This is the fastest time that an atom could possibly decay.\n",
    "\n",
    "Alternatively, you can calculate the time it would take an electron in a circular orbit with radius $r$ and an electric dipole momenty of $e r$ to radiate energy $E = \\hbar \\omega$. Calculate this, and show that the lifetime is proportional to $\\omega^{-3}$.\n",
    "\n",
    "Calculate the classical lifetime of the following transitions for alkali atoms and alkaline earth ions taken from the [NIST ASD](https://physics.nist.gov/PhysRefData/ASD/lines_form.html).\n",
    "\n",
    "Make a plot of $\\tau$ against $\\omega^{-2}$ and another plot of $\\tau$ against $\\omega{^-3}$. Which is the correct description of this data, and why?"
   ]
  },
  {
   "cell_type": "code",
   "execution_count": 61,
   "id": "41eac7b2",
   "metadata": {
    "ExecuteTime": {
     "end_time": "2022-08-30T05:29:07.679399Z",
     "start_time": "2022-08-30T05:29:07.670550Z"
    }
   },
   "outputs": [],
   "source": [
    "# NIST ASD transition data in the form (wavelength (nm), lifetime (s^-1))\n",
    "data1 = [\n",
    "    (589.755, 1/6.14e+07), # Na 3s-3p\n",
    "    (770.108, 1/3.734e+07), # K 4s-4p\n",
    "    (794.978, 1/3.61e+07), # Rb 5s-5p\n",
    "    (894.593, 1/2.863e+07), # Cs 6s-6p\n",
    "    (280.353, 1/2.57e+08), # Mg+ 3s-3p\n",
    "    (396.959, 1/1.4e+08), # Ca+ 4s-4p\n",
    "    (421.671, 1/1.279e+08), # Sr+ 5s-5p\n",
    "    (493.545, 1/9.53e+07) # Ba+ 6s-6p\n",
    "]"
   ]
  },
  {
   "cell_type": "markdown",
   "id": "4d59cf82",
   "metadata": {},
   "source": [
    "Now compare to the below data for just sodium transitions, again making plots of $\\tau$ against $\\omega^{-2}$ and another plot of $\\tau$ against $\\omega{^-3}$. Which is the correct description of this data, and why?"
   ]
  },
  {
   "cell_type": "code",
   "execution_count": 89,
   "id": "5d2b6cc9",
   "metadata": {
    "ExecuteTime": {
     "end_time": "2022-08-30T05:35:37.910579Z",
     "start_time": "2022-08-30T05:35:37.900937Z"
    }
   },
   "outputs": [],
   "source": [
    "# NIST ASD transition data for sodium in the form (wavelength (nm), lifetime (s^-1))\n",
    "data2 = [\n",
    "    (589.755, 1/6.14e+07), # Na 3s-3p\n",
    "    (330.393, 1/2.73e+06), # Na 3s-4p\n",
    "    (285.385, 1/5.31e+05), # Na 3s-5p\n",
    "    (268.122, 1/1.81e+05), # Na 3s-6p\n",
    "    (259.471, 1/7.96e+04), # Na 3s-7p\n",
    "    (254.464, 1/4.35e+04), # Na 3s-8p\n",
    "]"
   ]
  },
  {
   "cell_type": "markdown",
   "id": "665d0744",
   "metadata": {},
   "source": [
    "# Problem 5 - Relativistic Shift\n",
    "An electron moving at relativistic speeds has an energy $E(v) = \\gamma m c^2$, where $\\gamma = 1/\\sqrt{1-v^2/c^2}$, giving rise to an excess energy $E(v) - E(0) = (\\gamma -1)m_e c^2$. This produces a fractional relativistic energy shift $\\Delta E/E \\approx v^2/c^2 \\propto \\alpha^2/n^2$.\n",
    "\n",
    "Consider the spectral data for the alkali atoms and alkaline earth ions. For each atom there are two transitions, with so-called ``fine'' splitting between them due to, among other things, the relativistic shift. Calculate this shift in units of THz and plot it against $Z^\\delta$, where $\\delta$ is some power, to find a linear relationship. Show that the slope of this is approximately (within an order of magnitude) of $\\alpha^2$."
   ]
  },
  {
   "cell_type": "code",
   "execution_count": null,
   "id": "11083ee6",
   "metadata": {
    "ExecuteTime": {
     "end_time": "2022-08-30T06:17:01.854675Z",
     "start_time": "2022-08-30T06:17:01.838122Z"
    }
   },
   "outputs": [],
   "source": [
    "# NIST ASD transition data for alkalis in the form (Z, wavelenght(nm), wavelength(nm))\n",
    "data3 = [\n",
    "    (1, 121.5673644608, 121.5668237310), # H 1s-1p\n",
    "    (3, 670.976, 670.961), # Li 2s-2p\n",
    "    (11, 589.755, 589.158), # Na 3s-3p\n",
    "    (19, 770.108, 766.700), # K 4s-4p\n",
    "    (37, 794.978, 780.241), # Rb 5s-5p\n",
    "    (55, 894.593, 852.347), # Cs 6s-6p\n",
    "    (87, 817.166, 718.185) # Fr 7s-7p\n",
    "]\n",
    "\n",
    "# NIST ASD transition data for alkaline earth ions in the form (Z, wavelenght(nm), wavelength(nm))\n",
    "data4 = [\n",
    "    (4, 313.197, 313.132), # Be+ 2s-2p\n",
    "    (12, 280.353, 279.635), # Mg+ 3s-3p\n",
    "    (20, 396.959, 393.477), # Ca+ 4s-4p\n",
    "    (38, 421.671, 407.886), # Sr+ 5s-5p\n",
    "    (56, 493.545, 455.531), # Ba+ 6s-6p\n",
    "    (88, 468.354, 381.550) # Ra+ 7s-7p\n",
    "]"
   ]
  }
 ],
 "metadata": {
  "kernelspec": {
   "display_name": "Python 3 (ipykernel)",
   "language": "python",
   "name": "python3"
  },
  "language_info": {
   "codemirror_mode": {
    "name": "ipython",
    "version": 3
   },
   "file_extension": ".py",
   "mimetype": "text/x-python",
   "name": "python",
   "nbconvert_exporter": "python",
   "pygments_lexer": "ipython3",
   "version": "3.9.13"
  }
 },
 "nbformat": 4,
 "nbformat_minor": 5
}
