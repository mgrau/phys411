{
 "cells": [
  {
   "cell_type": "markdown",
   "id": "ecac159d",
   "metadata": {},
   "source": [
    "You can use the buttons below to launch this Jupyter notebook in either [binder](https://mybinder.org/) or [Colab](https://colab.research.google.com/):\n",
    "\n",
    "[![Binder](http://mybinder.org/badge.svg)](http://beta.mybinder.org/v2/gh/<GITHUB_USER>/<REPO>/<BRANCH>?urlpath=rstudio) | [![Colab](https://img.shields.io/badge/launch-colab-orange)](http://beta.mybinder.org/v2/gh/<GITHUB_USER>/<REPO>/<BRANCH>?urlpath=rstudio)\n",
    "-|-"
   ]
  },
  {
   "cell_type": "code",
   "execution_count": 1,
   "id": "ede1a1cf",
   "metadata": {
    "ExecuteTime": {
     "end_time": "2022-08-30T03:28:13.685295Z",
     "start_time": "2022-08-30T03:28:13.666649Z"
    }
   },
   "outputs": [
    {
     "data": {
      "text/plain": [
       "2"
      ]
     },
     "execution_count": 1,
     "metadata": {},
     "output_type": "execute_result"
    }
   ],
   "source": [
    "1+1"
   ]
  }
 ],
 "metadata": {
  "kernelspec": {
   "display_name": "Python 3 (ipykernel)",
   "language": "python",
   "name": "python3"
  },
  "language_info": {
   "codemirror_mode": {
    "name": "ipython",
    "version": 3
   },
   "file_extension": ".py",
   "mimetype": "text/x-python",
   "name": "python",
   "nbconvert_exporter": "python",
   "pygments_lexer": "ipython3",
   "version": "3.9.13"
  }
 },
 "nbformat": 4,
 "nbformat_minor": 5
}
