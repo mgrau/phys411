{
 "cells": [
  {
   "cell_type": "markdown",
   "id": "4922270a",
   "metadata": {},
   "source": [
    "# Getting Started\n",
    "You can use these buttons below to launch this Jupyter notebook in either [binder](https://mybinder.org/) or [Colab](https://colab.research.google.com/). Play around with each service, they have their own advantages. Colab will startup faster, but you may have to install your own dependencies using the `!pip` command. You will also need to be signed in with a google account. Binder doesn't require any account to use, but it does take sometimes several minutes to startup.\n",
    "\n",
    "[![Open in Binder](https://mybinder.org/badge_logo.svg)](http://beta.mybinder.org/v2/gh/mgrau/phys411/main?urlpath=%2Ftree/Homework%201.ipynb)\n",
    "\n",
    "[![Open In Colab](https://colab.research.google.com/assets/colab-badge.svg)](https://colab.research.google.com/github/mgrau/phys411/blob/main/Homework%201.ipynb)\n",
    "\n",
    "You can also download and run this notebook on your own computer, provided you have a suitable Python installation."
   ]
  },
  {
   "cell_type": "code",
   "execution_count": 2,
   "id": "b5a996dd",
   "metadata": {
    "ExecuteTime": {
     "end_time": "2022-08-30T03:41:39.934792Z",
     "start_time": "2022-08-30T03:41:39.925733Z"
    }
   },
   "outputs": [
    {
     "data": {
      "text/plain": [
       "2"
      ]
     },
     "execution_count": 2,
     "metadata": {},
     "output_type": "execute_result"
    }
   ],
   "source": [
    "1+1"
   ]
  },
  {
   "cell_type": "code",
   "execution_count": null,
   "id": "55252f29",
   "metadata": {},
   "outputs": [],
   "source": []
  }
 ],
 "metadata": {
  "kernelspec": {
   "display_name": "Python 3 (ipykernel)",
   "language": "python",
   "name": "python3"
  },
  "language_info": {
   "codemirror_mode": {
    "name": "ipython",
    "version": 3
   },
   "file_extension": ".py",
   "mimetype": "text/x-python",
   "name": "python",
   "nbconvert_exporter": "python",
   "pygments_lexer": "ipython3",
   "version": "3.9.13"
  }
 },
 "nbformat": 4,
 "nbformat_minor": 5
}
