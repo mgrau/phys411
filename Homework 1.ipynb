{
 "cells": [
  {
   "cell_type": "markdown",
   "id": "9776869f",
   "metadata": {},
   "source": [
    "# Getting Started\n",
    "You can use these buttons below to launch this Jupyter notebook in either [binder](https://mybinder.org/) or [Colab](https://colab.research.google.com/). Play around with each service, they have their own advantages. Colab will startup faster, but you may have to install your own dependencies using the `!pip` command. You will also need to be signed in with a google account. Binder doesn't require any account to use, but it does take sometimes several minutes to startup.\n",
    "\n",
    "[![Open in Binder](https://mybinder.org/badge_logo.svg)](http://beta.mybinder.org/v2/gh/mgrau/phys411/main?urlpath=%2Ftree/Homework%201.ipynb)\n",
    "\n",
    "[![Open In Colab](https://colab.research.google.com/assets/colab-badge.svg)](https://colab.research.google.com/github/mgrau/phys411/blob/main/Homework%201.ipynb)\n",
    "\n",
    "You can also download and run this notebook on your own computer, provided you have a suitable Python installation."
   ]
  },
  {
   "attachments": {
    "image-2.png": {
     "image/png": "[encoded data removed]"
    },
    "image.png": {
     "image/png": "[encoded data removed]"
    }
   },
   "cell_type": "markdown",
   "id": "4d1bb390",
   "metadata": {
    "ExecuteTime": {
     "end_time": "2022-08-30T03:41:39.934792Z",
     "start_time": "2022-08-30T03:41:39.925733Z"
    }
   },
   "source": [
    "## Introduction to Jupyter Notebooks\n",
    "\n",
    "Jupyter notebooks are an interactive document that can contain rich text (like you are reading now), as well as code (like you may see in the block below). In this class we will be using them to perform calculations for your homework assignments, plot figures, and write text to document your work.\n",
    "\n",
    "Below this cell you will see a block of Python code. You can run it either by selecting the cell and clicking the Run button\n",
    "![image.png](attachment:image.png)\n",
    "or in Colab clicking the triagle to the left of the cell\n",
    "![image-2.png](attachment:image-2.png)\n",
    "You can also select the cell and press `Ctrl-Enter`. You should see the output of the cell printed below."
   ]
  },
  {
   "cell_type": "code",
   "execution_count": 4,
   "id": "f3819725",
   "metadata": {
    "ExecuteTime": {
     "end_time": "2022-08-30T04:00:25.090089Z",
     "start_time": "2022-08-30T04:00:25.080511Z"
    }
   },
   "outputs": [
    {
     "data": {
      "text/plain": [
       "6.28"
      ]
     },
     "execution_count": 4,
     "metadata": {},
     "output_type": "execute_result"
    }
   ],
   "source": [
    "x = 3.14\n",
    "y = 2 * x\n",
    "y"
   ]
  },
  {
   "cell_type": "code",
   "execution_count": null,
   "id": "f360c0d6",
   "metadata": {},
   "outputs": [],
   "source": []
  }
 ],
 "metadata": {
  "kernelspec": {
   "display_name": "Python 3 (ipykernel)",
   "language": "python",
   "name": "python3"
  },
  "language_info": {
   "codemirror_mode": {
    "name": "ipython",
    "version": 3
   },
   "file_extension": ".py",
   "mimetype": "text/x-python",
   "name": "python",
   "nbconvert_exporter": "python",
   "pygments_lexer": "ipython3",
   "version": "3.9.13"
  }
 },
 "nbformat": 4,
 "nbformat_minor": 5
}
