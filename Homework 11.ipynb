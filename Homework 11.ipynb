{
 "cells": [
  {
   "cell_type": "markdown",
   "id": "9c16a45e",
   "metadata": {},
   "source": [
    "# PHYS 411 - Homework 11\n",
    "Due **Thursday December 08**, 2022 at 9:30.\n",
    "\n",
    "You can use these buttons below to launch this Jupyter notebook in either [binder](https://mybinder.org/) or [Colab](https://colab.research.google.com/).\n",
    "\n",
    "[![Open in Binder](https://mybinder.org/badge_logo.svg)](http://beta.mybinder.org/v2/gh/mgrau/phys411/main?urlpath=%2Ftree/Homework%2011.ipynb)\n",
    "\n",
    "[![Open In Colab](https://colab.research.google.com/assets/colab-badge.svg)](https://colab.research.google.com/github/mgrau/phys411/blob/main/Homework%2011.ipynb)\n",
    "\n",
    "When you are finished with your work, please either print to a PDF file and submit via canvas, or submit the raw Jupyter notebook file. For full credit please be sure to clearly explain what you are doing."
   ]
  },
  {
   "cell_type": "markdown",
   "id": "ca7b11eb",
   "metadata": {},
   "source": [
    "# Problem 1 - Optical Cross Section\n",
    "The optical cross section of an atom near a transition is\n",
    "$$\n",
    "\\sigma(\\omega) = \\frac{3 \\pi^2 c^2}{\\omega_0^2} A_{21} g(\\omega-\\omega_0)\n",
    "$$\n",
    "where $\\omega_0$ is the resonant frequency of the transition and $A_{21}$ is the Einstein coefficient describing the rate of decay from state $\\left|2\\right>$ to state $\\left|1\\right>$, and $g(\\Delta)$ is the Lorentzian lineshape with FWHM $\\Gamma$,\n",
    "$$\n",
    "g(\\Delta) = \\frac{1}{2\\pi}\\frac{\\Gamma}{\\Delta^2 + (\\Gamma/2)^2}\n",
    "$$\n",
    "Plot the optical cross section of Rubidium as a function of $\\omega$ in a region of $\\omega = \\pm 2\\pi \\times 100$ MHz around the $5 ^2\\text{S}_{1/2} \\to 5 ^2\\text{P}_{3/2}$ transition. You can look up the relevant parameters of the transition (wavelength, Einstein coefficient) at the [NIST ASD database](https://physics.nist.gov/cgi-bin/ASD/lines1.pl?spectra=Rb+i&limits_type=0&low_w=&upp_w=&unit=1&submit=Retrieve+Data&de=0&I_scale_type=1&format=0&line_out=0&en_unit=0&output=0&bibrefs=1&page_size=15&show_obs_wl=1&show_calc_wl=1&unc_out=1&order_out=0&max_low_enrg=&show_av=2&max_upp_enrg=&tsb_value=0&min_str=&A_out=0&intens_out=on&max_str=&allowed_out=1&forbid_out=1&min_accur=&min_intens=&conf_out=on&term_out=on&enrg_out=on&J_out=on). Assume that $\\Gamma = A_{21}$. Please make sure the axes are appropriately labeled with units."
   ]
  },
  {
   "cell_type": "markdown",
   "id": "30702e2d",
   "metadata": {},
   "source": [
    "# Problem 2 - Radiation Pressure\n",
    "Calculate the radiation pressure due to\n",
    "1. The irradiance of the Sun on the surface of the Earth\n",
    "2. The irradiance of the Sun on the surface of a hat on your head. What is the ratio of this force to the weight of the hat?\n",
    "3. The scattering force of a 1 mW laser beam focused to a 1 mm radius wasit on Sodium atom at rest, if the laser is detuned 40 MHz off resonance of the 589 nm D2 line. You should calculate the following intermediate quantities:\n",
    "\n",
    "    a. What is the intensity of the laser beam? Remember, $I=2P/\\pi w^2$ for a gaussian beam.\n",
    "    b. What is the lifetime of the uppper $\\text{P}_{1/2}$ state of the D2 transition? Since this state only decays to the $\\text{S}_{1/2}$ state, you can calculate the lifetime as $\\tau = 1/\\Gamma = 1/A_{21}$. You can look up the decay coefficient in [the NIST ASD](https://physics.nist.gov/cgi-bin/ASD/lines1.pl?spectra=Na+i&limits_type=0&low_w=&upp_w=&unit=1&submit=Retrieve+Data&de=0&I_scale_type=1&format=0&line_out=0&en_unit=0&output=0&bibrefs=1&page_size=15&show_obs_wl=1&show_calc_wl=1&unc_out=1&order_out=0&max_low_enrg=&show_av=2&max_upp_enrg=&tsb_value=0&min_str=&A_out=0&intens_out=on&max_str=&allowed_out=1&forbid_out=1&min_accur=&min_intens=&conf_out=on&term_out=on&enrg_out=on&J_out=on)\n",
    "    c. What is the saturation intensity of the D2 transition, $I_\\text{sat} = \\pi h c/(3 \\lambda^3 \\tau)$?\n",
    "   \n",
    "4. How does the scattering force calculated above compare the the weight of the sodium atom? What is the ratio of the force to the weight?"
   ]
  },
  {
   "cell_type": "markdown",
   "id": "2821641a",
   "metadata": {},
   "source": [
    "# Problem 3 - Optical molasses\n",
    "An optical molasses is a technique for applying a damping force to an atom using two counter-propagating laser beams, exploiting the relative doppler shift of the atom in each beam,\n",
    "$$\n",
    "F_\\text{molasses} = F_\\text{scatt}(\\Delta - kv) - F_\\text{scatt}(\\Delta + kv)\n",
    "$$\n",
    "where the scattering force is at an intensity $I$ near a transition with decay rate $\\Gamma$ is\n",
    "$$\n",
    "F_\\text{scatt}(\\Delta) = \\hbar k \\frac{\\Gamma}{2} \\frac{I/I\\text{sat}}{1 + I/I\\text{sat} + 4 \\Delta^2/\\Gamma^2}\n",
    "$$\n",
    "\n",
    "Plot the force of the optical molasses as a function of atom velocity, for a range of velocities from -200 m/s to +200 m/s, and an intensity of $I = I_\\text{sat}/100$. Make four different plots for the detunings:\n",
    "1. $\\Delta = -2\\Gamma$\n",
    "2. $\\Delta = -\\Gamma/2$\n",
    "3. $\\Delta = -\\Gamma/10$\n",
    "4. $\\Delta = +\\Gamma/2$\n",
    "For which of these situations is the force from the optical molasses damping (when is the direction counter to the velocity?). When is the magnitude of the force the largest? Which has the largest damping?"
   ]
  },
  {
   "cell_type": "markdown",
   "id": "308cee75",
   "metadata": {},
   "source": [
    "# Problem 4 - Doppler Limit\n",
    "The random direction of spontaneous emission during laser cooling causes fluctuations in the atom velocity leading to the Doppler limit of cooling,\n",
    "$$\n",
    "T_D = \\frac{1}{k_B} \\frac{1}{4} \\hbar \\Gamma \\frac{1+(2\\Delta/\\Gamma)^2}{-2\\Delta/\\Gamma},\n",
    "$$\n",
    "What is the doppler limit of a sodium atom cooled on the D2 transition with a laser at the detunings\n",
    "1. $\\Delta = \\Gamma/10$\n",
    "2. $\\Delta = \\Gamma/2$\n",
    "3. $\\Delta = \\Gamma$\n",
    "What is the minimum possible temperature according to this heating method, and what detuning $\\Delta$ does it occur at?\n",
    "\n",
    "Consider a neutral [calcium atom](https://physics.nist.gov/cgi-bin/ASD/lines1.pl?spectra=Ca+i&limits_type=0&low_w=&upp_w=&unit=1&submit=Retrieve+Data&de=0&I_scale_type=1&format=0&line_out=0&en_unit=0&output=0&bibrefs=1&page_size=15&show_obs_wl=1&show_calc_wl=1&unc_out=1&order_out=0&max_low_enrg=&show_av=2&max_upp_enrg=&tsb_value=0&min_str=&A_out=0&intens_out=on&max_str=&allowed_out=1&forbid_out=1&min_accur=&min_intens=&conf_out=on&term_out=on&enrg_out=on&J_out=on), and compare the Doppler limit temperature of the two transitions,\n",
    "1. $^1\\text{S}_0 \\to ^1\\text{P}_1$, $\\lambda = 422$ nm, $\\Gamma = 2 \\pi \\times 35$ MHz.\n",
    "2. $^1\\text{S}_0 \\to ^3\\text{P}_1$, $\\lambda = 657$ nm, $\\Gamma = 2 \\pi \\times 413$ Hz.\n",
    "Which results in a colder atom?\n",
    "\n",
    "Now compare the maximum acceleration due to the scattering force, $a_\\text{max} = \\hbar k \\Gamma/(2m)$. Which of these do you think is better to use for laser cooling calcium?"
   ]
  }
 ],
 "metadata": {
  "kernelspec": {
   "display_name": "Python 3 (ipykernel)",
   "language": "python",
   "name": "python3"
  },
  "language_info": {
   "codemirror_mode": {
    "name": "ipython",
    "version": 3
   },
   "file_extension": ".py",
   "mimetype": "text/x-python",
   "name": "python",
   "nbconvert_exporter": "python",
   "pygments_lexer": "ipython3",
   "version": "3.10.7"
  },
  "vscode": {
   "interpreter": {
    "hash": "e80af68df95a31e212cd009ac4ba18d1a695b62c5ba442f5a9e89f02be8b3cbc"
   }
  }
 },
 "nbformat": 4,
 "nbformat_minor": 5
}
