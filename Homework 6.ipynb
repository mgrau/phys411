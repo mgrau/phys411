{
 "cells": [
  {
   "cell_type": "markdown",
   "id": "9c16a45e",
   "metadata": {},
   "source": [
    "# PHYS 411 - Homework 6\n",
    "Due Tuesday October 18, 2022 at 9:30.\n",
    "**Note: This is a much longer (and more difficult) homework than normal. You have two weeks to work on it, but if you leave this to the last minute, you *will* run out of time. Due to the extended deadline, I will not be granting extensions for this problem set. It will also be worth twice as many points as other homeworks.**\n",
    "\n",
    "This homework will also have a slightly different grading modality. You are allowed to turn it in at any point before the day that it is due, and I will correct it, and you have the option to resubmit anything that is wrong or incomplete.\n",
    "\n",
    "You can use these buttons below to launch this Jupyter notebook in either [binder](https://mybinder.org/) or [Colab](https://colab.research.google.com/).\n",
    "\n",
    "[![Open in Binder](https://mybinder.org/badge_logo.svg)](http://beta.mybinder.org/v2/gh/mgrau/phys411/main?urlpath=%2Ftree/Homework%206.ipynb)\n",
    "\n",
    "[![Open In Colab](https://colab.research.google.com/assets/colab-badge.svg)](https://colab.research.google.com/github/mgrau/phys411/blob/main/Homework%206.ipynb)\n",
    "\n",
    "When you are finished with your work, please either print to a PDF file and submit via canvas, or submit the raw Jupyter notebook file. For full credit please be sure to clearly explain what you are doing."
   ]
  },
  {
   "cell_type": "code",
   "execution_count": 1,
   "id": "ba5ead7c",
   "metadata": {
    "ExecuteTime": {
     "end_time": "2022-10-05T03:41:42.314732Z",
     "start_time": "2022-10-05T03:41:41.924972Z"
    }
   },
   "outputs": [],
   "source": [
    "import numpy as np\n",
    "import matplotlib.pyplot as plt\n",
    "import scipy"
   ]
  },
  {
   "cell_type": "markdown",
   "id": "8172887a",
   "metadata": {},
   "source": [
    "# Problem 1 - Atom core charge distribution\n",
    "Below I have written a function `R(r, n, l, Z)`, which calculates the electron radial wavefunction for hydrogen-like ions (H, He$^+$, Li$^{2+}$, etc). Consider potassium, which has atomic number $Z=19$.\n",
    "\n",
    "1. What is the configuration of the ground state of potassium? Write out the full configuration, without abbreviation.\n",
    "2. There should be five fully filled sub-shells. What are they?\n",
    "3. Consider each sub-shell. Assume that the innermost subshell sees the full nuclear charge (19e+), but that nuclear charge each successive shell is sees is screened by the inner sib-shells. For example, the next subshell should see an effective nuclear charge of $Z_\\text{eff}=17$, and so on until the outmost valence electron sees an effective charge of $Z_\\text{eff} =1$. What is the effective nuclear charge that each sub-shell sees?\n",
    "4. Assume that the electrons in each sub-shell each see the same effective nuclear charge. In a single figure plot the five different electron radial wavefunctions (plot $r R$) corresponding to each sub-shell (remember to change $Z$ for each of them!). For full credit, label your axes (with units) as well as each radial wavefunction. *Hint: use an x-range of $0 a_0$ to $5 a_0$*.\n",
    "5. Create an effective inner-shells electron charge distribution by summing the square of the electron radial wavefunctions for each of the five inner sub-shells. Remember to multiply each term by the number of electrons in each subshell ($2\\times(2l+1)$ ), and to multiply by $r^2$. Plot the inner-shells electron charge distribution.\n",
    "$$\n",
    "R_\\text{core} = \\sqrt{\\sum_{n,l} 2(2l+1) \\times R^{Z_\\text{eff}}_{n,l}(r)^2}\n",
    "$$\n",
    "6. What is the effective size of this inner-shells? That is, what is the expectation value $\\left<r\\right>$ of this charge distribution? Remember, you will need to normalize $R_\\text{core}$."
   ]
  },
  {
   "cell_type": "code",
   "execution_count": 2,
   "id": "5da18eb5",
   "metadata": {
    "ExecuteTime": {
     "end_time": "2022-10-05T03:41:42.352487Z",
     "start_time": "2022-10-05T03:41:42.315690Z"
    }
   },
   "outputs": [],
   "source": [
    "from math import factorial\n",
    "import scipy.special\n",
    "def R(r, n=1, l=0, Z=1):\n",
    "    rho = 2*Z*r/n\n",
    "    A = (-1)**(n+l+1) * np.sqrt((2*Z/n)**3*factorial(n-l-1)/(2*n*factorial(n+l)))\n",
    "    L = scipy.special.genlaguerre(n-l-1, 2*l+1)\n",
    "    return A * rho**l * np.exp(-rho/2) * L(rho)"
   ]
  },
  {
   "cell_type": "markdown",
   "id": "4b34afb5",
   "metadata": {},
   "source": [
    "# Problem 2 - Quantum Defects\n",
    "\n",
    "## Introduction\n",
    "In this problem we are going to modify the Coulomb potential to have an effective short range interaction with an unshielded potassium nucleus ($Z=19$), and a long range interaction with a singly-charged K$^+$ atom,\n",
    "$$\n",
    "V(r) =\\left\\{\\begin{matrix}-\\frac{e^2}{4 \\pi \\epsilon_0 r} & r > r_\\text{core} \\\\\n",
    "-\\frac{Z e^2}{4 \\pi \\epsilon_0 r} & r < r_\\text{core} \\\\\n",
    "\\end{matrix}\\right.\n",
    "$$\n",
    "To do this we will need to be able to solve the radial Schrödinger equation for arbitrary central potentials. I have written several functions that will help with this process. They are not necessarily the most efficient way to solve this problem, but they are the simplest and easiest to under stand. An overview of what the functions are, as well as an example for hydrogen follows:\n",
    "\n",
    "- `solve_radial(V, E, l, r)`: This function solves the radial Schrödinger for a given potential function `V(r)` and energy `E` and orbital angular momentum quantum number `l` by numerically integrating the differential equation from large values of $r$ down to $r=0$. You should not need to call this function directly.\n",
    "- `find_energy(V, l, minE, maxE)`: This function finds an eigenenergy of the potential function `V(r)` and orbital angular momentum quantum number `l` by searching between the energies `minE` and `maxE`. It does this via the \"shooting\" method, where it looks for solutions to the differential equation with the initial condition of 0 at large $r$, and also end up with 0 when integrating down to $r=0$ (satisfying the boundary conditions).\n",
    "- `find_state(V, l, E, dE)`: This function looks for an eigenstate to the potential function `V(r)` by looking for solutions with energy in the neighborhood of `E` $\\pm$ `dE`. It returns the wavefunction but also the energy.\n",
    "- `find_states(V, l, trial_energies, n=10)`: This does a brute force through all the energies in `trial_energies` looking for eigenenergies of the potential function `V(r)` with orbital angular momentum quantum number `l`. By default it looks for the first `n=10`. This function tends to take a long time (on my computer it takes more than 1 minute).\n",
    "- `R_calc(r, V, l, energy)`: This is the numerical equivalent to the analytic function `R(r, n=1, l=0, Z=1)` defined above for hydrogen. It is the numerical radial wavefunction, evaluated at `r`, of the potential `V(r)` and orbital angular momentum quantum number `l` and with energy `energy`. Note, it is defined in terms of energy, and not the principal quantum number $n$.\n",
    "\n",
    "All numerical quantites are in atomic units (lengths are in $a_0$, energies are in hartrees)."
   ]
  },
  {
   "cell_type": "code",
   "execution_count": 3,
   "id": "261b06cc",
   "metadata": {
    "ExecuteTime": {
     "end_time": "2022-10-05T03:41:42.531617Z",
     "start_time": "2022-10-05T03:41:42.353837Z"
    }
   },
   "outputs": [],
   "source": [
    "from scipy.integrate import solve_ivp\n",
    "from scipy.optimize import bisect\n",
    "from scipy.interpolate import interp1d\n",
    "from scipy.signal import argrelmin\n",
    "\n",
    "def solve_radial(V, E, l, r, normalize=False):\n",
    "    def du(r, u):\n",
    "        return np.array([u[1], (l*(l+1)/r**2 + 2*(V(r) - E)) * u[0]])\n",
    "\n",
    "    sol = solve_ivp(du, t_span=[r[-1], r[0]], t_eval=r[::-1], y0=[0, -1e-6], method='DOP853', rtol=1e-9)\n",
    "    u = sol.y[0][::-1]\n",
    "    if normalize:\n",
    "        u /= np.max(u)\n",
    "        u /= np.sqrt(trapezoid(u**2, r))\n",
    "    return u\n",
    "\n",
    "def find_energy(V, l, minE, maxE, r=None):\n",
    "    if r is None:\n",
    "        r = np.logspace(-6, 2.5, 1000)\n",
    "    def shoot(E, V, l, r):\n",
    "        u = solve_radial(V, E, l, r) \n",
    "        u0 = u[0] + (u[1]-u[0])*(0.0-r[0])/(r[1]-r[0])\n",
    "        return u0\n",
    "    return bisect(shoot, minE, maxE, args=(V, l, r))\n",
    "\n",
    "def find_state(V, l, E, dE=1e-4):\n",
    "    r = np.logspace(-9, 2.5, 1000)\n",
    "    energy = find_energy(V, l=l, minE=E-dE, maxE=E+dE, r=r)\n",
    "    u = solve_radial(V, energy, l=l, r=r, normalize=True)\n",
    "    if max(u**2)>1 and len(argrelmin(u**2)[0]) > 0:\n",
    "        r_min_index = argrelmin(u**2)[0][0]\n",
    "        r = np.concatenate(([0],r[r_min_index:]))\n",
    "        u = np.concatenate(([0],u[r_min_index:]))\n",
    "    u /= np.sqrt(trapezoid(u**2, r))\n",
    "    return interp1d(r, u, fill_value='extrapolate'), energy\n",
    "    \n",
    "def find_states(V, l, trial_energies, n=10):\n",
    "    energies = []\n",
    "    for energy1, energy2 in zip(trial_energies[:-1],trial_energies[1:]):\n",
    "        try:\n",
    "            result = find_energy(V, l, energy1, energy2)\n",
    "            print(f'found energy: {result} hartrees')\n",
    "            energies.append(result)\n",
    "        except:\n",
    "            pass\n",
    "        if len(energies) >= n:\n",
    "            break\n",
    "    return np.array(energies)\n",
    "\n",
    "def R_calc(r, V, l, energy):\n",
    "    f, _ = find_state(V, l, energy)\n",
    "    return np.divide(f(r), r, out=np.zeros(np.size(r)), where=r!=0)"
   ]
  },
  {
   "cell_type": "markdown",
   "id": "e244fdfc",
   "metadata": {},
   "source": [
    "Here is an example of how to use these functions to numerically solve for the radial wavefunctions to hydrogen. I define a potential function `V(r)` which is the Coulomb potential (in atomic units). I then search through 1000 trial energies, ranging from -0.55 hartrees to 0 hartrees looking for the first 10 eigenenergies (saved as `H_calc`. I then exactly calculate the first 10 energies using the Rydberg formula (`H_true`). Using this I can find the error of the calculation `H_error = H_calc - H_true`. I provide some example wavefunction figures as well."
   ]
  },
  {
   "cell_type": "code",
   "execution_count": 4,
   "id": "4998f1cb",
   "metadata": {
    "ExecuteTime": {
     "end_time": "2022-10-05T03:42:59.174111Z",
     "start_time": "2022-10-05T03:41:42.532395Z"
    }
   },
   "outputs": [
    {
     "name": "stdout",
     "output_type": "stream",
     "text": [
      "found energy: -0.5000000000265692 hartrees\n",
      "found energy: -0.12499999997921077 hartrees\n",
      "found energy: -0.05555555555303848 hartrees\n",
      "found energy: -0.031249999999160952 hartrees\n",
      "found energy: -0.01999999999942201 hartrees\n",
      "found energy: -0.013888888887490496 hartrees\n",
      "found energy: -0.010204081631939602 hartrees\n",
      "found energy: -0.007812499804692582 hartrees\n",
      "found energy: -0.006172821123816758 hartrees\n",
      "found energy: -0.00500063901278639 hartrees\n"
     ]
    }
   ],
   "source": [
    "def V(r):\n",
    "    return -1/r\n",
    "\n",
    "trial_energies = np.linspace(-0.55,0,1000)\n",
    "H_calc = find_states(V, 0, trial_energies=trial_energies, n=10)\n",
    "\n",
    "n = np.arange(1,11)\n",
    "H_true = -0.5 / n**2\n",
    "\n",
    "H_error = H_calc - H_true"
   ]
  },
  {
   "cell_type": "code",
   "execution_count": 5,
   "id": "4474108d",
   "metadata": {
    "ExecuteTime": {
     "end_time": "2022-10-05T03:42:59.181847Z",
     "start_time": "2022-10-05T03:42:59.175056Z"
    }
   },
   "outputs": [
    {
     "data": {
      "text/html": [
       "<table>\n",
       "<thead>\n",
       "<tr><th style=\"text-align: right;\">  n</th><th style=\"text-align: right;\">  True Energy (hartree)</th><th style=\"text-align: right;\">  Calculate Energy (hartree)</th><th style=\"text-align: right;\">  Error (hartree)</th></tr>\n",
       "</thead>\n",
       "<tbody>\n",
       "<tr><td style=\"text-align: right;\">  1</td><td style=\"text-align: right;\">            -0.5       </td><td style=\"text-align: right;\">                 -0.5       </td><td style=\"text-align: right;\">     -2.65692e-11</td></tr>\n",
       "<tr><td style=\"text-align: right;\">  2</td><td style=\"text-align: right;\">            -0.125     </td><td style=\"text-align: right;\">                 -0.125     </td><td style=\"text-align: right;\">      2.07892e-11</td></tr>\n",
       "<tr><td style=\"text-align: right;\">  3</td><td style=\"text-align: right;\">            -0.0555556 </td><td style=\"text-align: right;\">                 -0.0555556 </td><td style=\"text-align: right;\">      2.51707e-12</td></tr>\n",
       "<tr><td style=\"text-align: right;\">  4</td><td style=\"text-align: right;\">            -0.03125   </td><td style=\"text-align: right;\">                 -0.03125   </td><td style=\"text-align: right;\">      8.39048e-13</td></tr>\n",
       "<tr><td style=\"text-align: right;\">  5</td><td style=\"text-align: right;\">            -0.02      </td><td style=\"text-align: right;\">                 -0.02      </td><td style=\"text-align: right;\">      5.77989e-13</td></tr>\n",
       "<tr><td style=\"text-align: right;\">  6</td><td style=\"text-align: right;\">            -0.0138889 </td><td style=\"text-align: right;\">                 -0.0138889 </td><td style=\"text-align: right;\">      1.39839e-12</td></tr>\n",
       "<tr><td style=\"text-align: right;\">  7</td><td style=\"text-align: right;\">            -0.0102041 </td><td style=\"text-align: right;\">                 -0.0102041 </td><td style=\"text-align: right;\">      7.13459e-13</td></tr>\n",
       "<tr><td style=\"text-align: right;\">  8</td><td style=\"text-align: right;\">            -0.0078125 </td><td style=\"text-align: right;\">                 -0.0078125 </td><td style=\"text-align: right;\">      1.95307e-10</td></tr>\n",
       "<tr><td style=\"text-align: right;\">  9</td><td style=\"text-align: right;\">            -0.00617284</td><td style=\"text-align: right;\">                 -0.00617282</td><td style=\"text-align: right;\">      1.83824e-08</td></tr>\n",
       "<tr><td style=\"text-align: right;\"> 10</td><td style=\"text-align: right;\">            -0.005     </td><td style=\"text-align: right;\">                 -0.00500064</td><td style=\"text-align: right;\">     -6.39013e-07</td></tr>\n",
       "</tbody>\n",
       "</table>"
      ],
      "text/plain": [
       "'<table>\\n<thead>\\n<tr><th style=\"text-align: right;\">  n</th><th style=\"text-align: right;\">  True Energy (hartree)</th><th style=\"text-align: right;\">  Calculate Energy (hartree)</th><th style=\"text-align: right;\">  Error (hartree)</th></tr>\\n</thead>\\n<tbody>\\n<tr><td style=\"text-align: right;\">  1</td><td style=\"text-align: right;\">            -0.5       </td><td style=\"text-align: right;\">                 -0.5       </td><td style=\"text-align: right;\">     -2.65692e-11</td></tr>\\n<tr><td style=\"text-align: right;\">  2</td><td style=\"text-align: right;\">            -0.125     </td><td style=\"text-align: right;\">                 -0.125     </td><td style=\"text-align: right;\">      2.07892e-11</td></tr>\\n<tr><td style=\"text-align: right;\">  3</td><td style=\"text-align: right;\">            -0.0555556 </td><td style=\"text-align: right;\">                 -0.0555556 </td><td style=\"text-align: right;\">      2.51707e-12</td></tr>\\n<tr><td style=\"text-align: right;\">  4</td><td style=\"text-align: right;\">            -0.03125   </td><td style=\"text-align: right;\">                 -0.03125   </td><td style=\"text-align: right;\">      8.39048e-13</td></tr>\\n<tr><td style=\"text-align: right;\">  5</td><td style=\"text-align: right;\">            -0.02      </td><td style=\"text-align: right;\">                 -0.02      </td><td style=\"text-align: right;\">      5.77989e-13</td></tr>\\n<tr><td style=\"text-align: right;\">  6</td><td style=\"text-align: right;\">            -0.0138889 </td><td style=\"text-align: right;\">                 -0.0138889 </td><td style=\"text-align: right;\">      1.39839e-12</td></tr>\\n<tr><td style=\"text-align: right;\">  7</td><td style=\"text-align: right;\">            -0.0102041 </td><td style=\"text-align: right;\">                 -0.0102041 </td><td style=\"text-align: right;\">      7.13459e-13</td></tr>\\n<tr><td style=\"text-align: right;\">  8</td><td style=\"text-align: right;\">            -0.0078125 </td><td style=\"text-align: right;\">                 -0.0078125 </td><td style=\"text-align: right;\">      1.95307e-10</td></tr>\\n<tr><td style=\"text-align: right;\">  9</td><td style=\"text-align: right;\">            -0.00617284</td><td style=\"text-align: right;\">                 -0.00617282</td><td style=\"text-align: right;\">      1.83824e-08</td></tr>\\n<tr><td style=\"text-align: right;\"> 10</td><td style=\"text-align: right;\">            -0.005     </td><td style=\"text-align: right;\">                 -0.00500064</td><td style=\"text-align: right;\">     -6.39013e-07</td></tr>\\n</tbody>\\n</table>'"
      ]
     },
     "execution_count": 5,
     "metadata": {},
     "output_type": "execute_result"
    }
   ],
   "source": [
    "# !pip install tabulate\n",
    "import tabulate\n",
    "tabulate.tabulate(zip(n, H_true, H_calc, H_error), \n",
    "                  headers=['n', 'True Energy (hartree)', 'Calculate Energy (hartree)', 'Error (hartree)'], \n",
    "                  tablefmt='html')"
   ]
  },
  {
   "cell_type": "code",
   "execution_count": 6,
   "id": "b8c5299e",
   "metadata": {
    "ExecuteTime": {
     "end_time": "2022-10-05T03:43:00.221640Z",
     "start_time": "2022-10-05T03:42:59.182682Z"
    }
   },
   "outputs": [
    {
     "ename": "NameError",
     "evalue": "name 'trapezoid' is not defined",
     "output_type": "error",
     "traceback": [
      "\u001b[0;31m---------------------------------------------------------------------------\u001b[0m",
      "\u001b[0;31mNameError\u001b[0m                                 Traceback (most recent call last)",
      "Cell \u001b[0;32mIn [6], line 2\u001b[0m\n\u001b[1;32m      1\u001b[0m r \u001b[38;5;241m=\u001b[39m np\u001b[38;5;241m.\u001b[39mlinspace(\u001b[38;5;241m0\u001b[39m, \u001b[38;5;241m30\u001b[39m, \u001b[38;5;241m1000\u001b[39m)\n\u001b[0;32m----> 2\u001b[0m plt\u001b[38;5;241m.\u001b[39mplot(r, r\u001b[38;5;241m*\u001b[39m\u001b[43mR_calc\u001b[49m\u001b[43m(\u001b[49m\u001b[43mr\u001b[49m\u001b[43m,\u001b[49m\u001b[43m \u001b[49m\u001b[43mV\u001b[49m\u001b[43m,\u001b[49m\u001b[43m \u001b[49m\u001b[43ml\u001b[49m\u001b[38;5;241;43m=\u001b[39;49m\u001b[38;5;241;43m0\u001b[39;49m\u001b[43m,\u001b[49m\u001b[43m \u001b[49m\u001b[43menergy\u001b[49m\u001b[38;5;241;43m=\u001b[39;49m\u001b[38;5;241;43m-\u001b[39;49m\u001b[38;5;241;43m0.125\u001b[39;49m\u001b[43m)\u001b[49m)\n\u001b[1;32m      3\u001b[0m plt\u001b[38;5;241m.\u001b[39mtitle(\u001b[38;5;124m'\u001b[39m\u001b[38;5;124mCalculated wavefunction for $l=0$, $E=-0.125$\u001b[39m\u001b[38;5;124m'\u001b[39m)\n\u001b[1;32m      4\u001b[0m plt\u001b[38;5;241m.\u001b[39mxlabel(\u001b[38;5;124m'\u001b[39m\u001b[38;5;124m$r (a_0)$\u001b[39m\u001b[38;5;124m'\u001b[39m, fontsize\u001b[38;5;241m=\u001b[39m\u001b[38;5;241m16\u001b[39m)\n",
      "Cell \u001b[0;32mIn [3], line 51\u001b[0m, in \u001b[0;36mR_calc\u001b[0;34m(r, V, l, energy)\u001b[0m\n\u001b[1;32m     50\u001b[0m \u001b[38;5;28;01mdef\u001b[39;00m \u001b[38;5;21mR_calc\u001b[39m(r, V, l, energy):\n\u001b[0;32m---> 51\u001b[0m     f, _ \u001b[38;5;241m=\u001b[39m \u001b[43mfind_state\u001b[49m\u001b[43m(\u001b[49m\u001b[43mV\u001b[49m\u001b[43m,\u001b[49m\u001b[43m \u001b[49m\u001b[43ml\u001b[49m\u001b[43m,\u001b[49m\u001b[43m \u001b[49m\u001b[43menergy\u001b[49m\u001b[43m)\u001b[49m\n\u001b[1;32m     52\u001b[0m     \u001b[38;5;28;01mreturn\u001b[39;00m np\u001b[38;5;241m.\u001b[39mdivide(f(r), r, out\u001b[38;5;241m=\u001b[39mnp\u001b[38;5;241m.\u001b[39mzeros(np\u001b[38;5;241m.\u001b[39msize(r)), where\u001b[38;5;241m=\u001b[39mr\u001b[38;5;241m!=\u001b[39m\u001b[38;5;241m0\u001b[39m)\n",
      "Cell \u001b[0;32mIn [3], line 29\u001b[0m, in \u001b[0;36mfind_state\u001b[0;34m(V, l, E, dE)\u001b[0m\n\u001b[1;32m     27\u001b[0m r \u001b[38;5;241m=\u001b[39m np\u001b[38;5;241m.\u001b[39mlogspace(\u001b[38;5;241m-\u001b[39m\u001b[38;5;241m9\u001b[39m, \u001b[38;5;241m2.5\u001b[39m, \u001b[38;5;241m1000\u001b[39m)\n\u001b[1;32m     28\u001b[0m energy \u001b[38;5;241m=\u001b[39m find_energy(V, l\u001b[38;5;241m=\u001b[39ml, minE\u001b[38;5;241m=\u001b[39mE\u001b[38;5;241m-\u001b[39mdE, maxE\u001b[38;5;241m=\u001b[39mE\u001b[38;5;241m+\u001b[39mdE, r\u001b[38;5;241m=\u001b[39mr)\n\u001b[0;32m---> 29\u001b[0m u \u001b[38;5;241m=\u001b[39m \u001b[43msolve_radial\u001b[49m\u001b[43m(\u001b[49m\u001b[43mV\u001b[49m\u001b[43m,\u001b[49m\u001b[43m \u001b[49m\u001b[43menergy\u001b[49m\u001b[43m,\u001b[49m\u001b[43m \u001b[49m\u001b[43ml\u001b[49m\u001b[38;5;241;43m=\u001b[39;49m\u001b[43ml\u001b[49m\u001b[43m,\u001b[49m\u001b[43m \u001b[49m\u001b[43mr\u001b[49m\u001b[38;5;241;43m=\u001b[39;49m\u001b[43mr\u001b[49m\u001b[43m,\u001b[49m\u001b[43m \u001b[49m\u001b[43mnormalize\u001b[49m\u001b[38;5;241;43m=\u001b[39;49m\u001b[38;5;28;43;01mTrue\u001b[39;49;00m\u001b[43m)\u001b[49m\n\u001b[1;32m     30\u001b[0m \u001b[38;5;28;01mif\u001b[39;00m \u001b[38;5;28mmax\u001b[39m(u\u001b[38;5;241m*\u001b[39m\u001b[38;5;241m*\u001b[39m\u001b[38;5;241m2\u001b[39m)\u001b[38;5;241m>\u001b[39m\u001b[38;5;241m1\u001b[39m \u001b[38;5;129;01mand\u001b[39;00m \u001b[38;5;28mlen\u001b[39m(argrelmin(u\u001b[38;5;241m*\u001b[39m\u001b[38;5;241m*\u001b[39m\u001b[38;5;241m2\u001b[39m)[\u001b[38;5;241m0\u001b[39m]) \u001b[38;5;241m>\u001b[39m \u001b[38;5;241m0\u001b[39m:\n\u001b[1;32m     31\u001b[0m     r_min_index \u001b[38;5;241m=\u001b[39m argrelmin(u\u001b[38;5;241m*\u001b[39m\u001b[38;5;241m*\u001b[39m\u001b[38;5;241m2\u001b[39m)[\u001b[38;5;241m0\u001b[39m][\u001b[38;5;241m0\u001b[39m]\n",
      "Cell \u001b[0;32mIn [3], line 14\u001b[0m, in \u001b[0;36msolve_radial\u001b[0;34m(V, E, l, r, normalize)\u001b[0m\n\u001b[1;32m     12\u001b[0m \u001b[38;5;28;01mif\u001b[39;00m normalize:\n\u001b[1;32m     13\u001b[0m     u \u001b[38;5;241m/\u001b[39m\u001b[38;5;241m=\u001b[39m np\u001b[38;5;241m.\u001b[39mmax(u)\n\u001b[0;32m---> 14\u001b[0m     u \u001b[38;5;241m/\u001b[39m\u001b[38;5;241m=\u001b[39m np\u001b[38;5;241m.\u001b[39msqrt(\u001b[43mtrapezoid\u001b[49m(u\u001b[38;5;241m*\u001b[39m\u001b[38;5;241m*\u001b[39m\u001b[38;5;241m2\u001b[39m, r))\n\u001b[1;32m     15\u001b[0m \u001b[38;5;28;01mreturn\u001b[39;00m u\n",
      "\u001b[0;31mNameError\u001b[0m: name 'trapezoid' is not defined"
     ]
    }
   ],
   "source": [
    "r = np.linspace(0, 30, 1000)\n",
    "plt.plot(r, r*R_calc(r, V, l=0, energy=-0.125))\n",
    "plt.title('Calculated wavefunction for $l=0$, $E=-0.125$')\n",
    "plt.xlabel('$r (a_0)$', fontsize=16)\n",
    "plt.ylabel('$r R$', fontsize=16)"
   ]
  },
  {
   "cell_type": "code",
   "execution_count": null,
   "id": "8c4063a6",
   "metadata": {
    "ExecuteTime": {
     "end_time": "2022-10-05T03:43:00.222436Z",
     "start_time": "2022-10-05T03:43:00.222431Z"
    },
    "scrolled": false
   },
   "outputs": [],
   "source": [
    "r = np.linspace(0, 200)\n",
    "plt.figure(figsize=(10,5))\n",
    "for l in range(6):\n",
    "    plt.subplot(2,3,l+1)\n",
    "    plt.plot(r, r*R(r, n=6, l=l), 'k:')\n",
    "    plt.plot(r, r*R_calc(r, V, l=l, energy=H_energies_calc[6-1]), 'o', label=f'l={l}')\n",
    "    if l>2:\n",
    "        plt.xlabel('$r (a_0)$', fontsize=16)\n",
    "    if not l%3:\n",
    "        plt.ylabel('$r R$', fontsize=16)\n",
    "    plt.legend()"
   ]
  },
  {
   "cell_type": "markdown",
   "id": "4e50a1db",
   "metadata": {},
   "source": [
    "## Problems:\n",
    "1. write a function `V_K(r)` to describe the effective potential of the valence electron in potassium. The potential should be `-1/r` for long range (`r > r_core`) and `-19/r` for short range. Why is this a reasonable potential for potassium? What is a good value to use for `r_core`? What are the potential shortcomings of this approximatin?\n",
    "2. Use `find_states` to calculate the first 10 energies of this effective potential `V_K(r)` for $l=$ s, p, d, and f (that is `l=0,1,2,3,4`). You should find the energies of 40 states in total. Unlike in hydrogen, the degeneracy between different $l$ states has been broken. Explain why.\n",
    "3. Create a figure comparing the calculated energy of your states to the measured energy of potassium, using the data from Homework 4 (I've included it below in the variable `K_data`). *Note: this data is in units of eV, you will need to convert to hartrees to compare!*\n",
    "4. For each of the four different $l$ series, plot $1/\\sqrt{-E}$ against $n$ (note that $n$ starts at 4 for $l$=s, p, and f and that $n$ begins at 3 for $l$=3). If your data follows the Rydberg series you should find a straight line. Fit this to extract the quantum defect $\\delta_l$ for each value of $l$. Compare with the experimental values from Homework 4.\n",
    "5. Plot the radial wavefunction for potassium `r R_calc` for the first three states in each $nl$ series. Compare to the hydrogen wavefunction $r R_{nl}$. Show that at long range ($r > r_\\text{core}$) that the wavefunctions are the same, other than a slight phase shift that is proportional to the quantum defect. *Note: when comparing with hydrogen, you will want to subtract off the quantum defect from the the principal quantum number, rounded off to the nearest integer. So to compare with the $4s$ state in potassium, with a quantum defect of e.g., $\\delta_s = 2.22$, subtract off 2 and then compare with the $2s$ state of hydrogen*.\n",
    "6. Plot the lowest energy radial wavefunction for potassium `r R_calc` for $l=$ s, p, d, and f, focusing the region where $r < 5 a_0$. Use this to explain the phase shift, and hence the quantum defect, that you see measure.\n",
    "\n",
    "**Bonus: you probably are not able to exactly replicate the measured values for energies and the quantum defect of potassium. Can you vary the parameters of your potential function `V_K(r)` to more closely match the experimental data?**"
   ]
  },
  {
   "cell_type": "code",
   "execution_count": null,
   "id": "10b83d5b",
   "metadata": {
    "ExecuteTime": {
     "end_time": "2022-10-05T03:43:00.223107Z",
     "start_time": "2022-10-05T03:43:00.223101Z"
    }
   },
   "outputs": [],
   "source": [
    "def V_K(r):\n",
    "    if r>r_core:\n",
    "        return -1/r\n",
    "    else:\n",
    "        return -19/r"
   ]
  },
  {
   "cell_type": "code",
   "execution_count": null,
   "id": "623f32de",
   "metadata": {
    "ExecuteTime": {
     "end_time": "2022-10-05T03:43:00.223849Z",
     "start_time": "2022-10-05T03:43:00.223840Z"
    }
   },
   "outputs": [],
   "source": [
    "K_data = {\n",
    "    \"s\": [\n",
    "        -4.34066373,\n",
    "        -1.7337036300000004,\n",
    "        -0.9372094300000002,\n",
    "        -0.5871352300000003,\n",
    "        -0.40225893000000035,\n",
    "        -0.2927840900000005,\n",
    "        -0.22262446000000047,\n",
    "        -0.17497323999999992,\n",
    "        -0.14113558000000026,\n",
    "        -0.11624444999999994,\n",
    "    ],\n",
    "    \"p\": [\n",
    "        -2.7259357760333334,\n",
    "        -1.2765323300000002,\n",
    "        -0.7445147300000001,\n",
    "        -0.48811472999999994,\n",
    "        -0.3447500633333336,\n",
    "        -0.25645662999999974,\n",
    "        -0.19822649666666692,\n",
    "        -0.15780243000000027,\n",
    "        -0.12859666333333397,\n",
    "        -0.10680996333333326,\n",
    "    ],\n",
    "    \"d\": [\n",
    "        -1.6705892500000004,\n",
    "        -0.9438060500000005,\n",
    "        -0.59814547,\n",
    "        -0.41085977000000007,\n",
    "        -0.2989833940000004,\n",
    "        -0.22709450600000025,\n",
    "        -0.17825562000000073,\n",
    "        -0.14359849199999974,\n",
    "        -0.11813159400000028,\n",
    "        -0.09887615400000005,\n",
    "    ],\n",
    "    \"f\": [\n",
    "        -0.8532547300000002,\n",
    "        -0.54591273,\n",
    "        -0.37897573000000007,\n",
    "        -0.27834673,\n",
    "        -0.21305572999999978,\n",
    "        -0.16830773000000043,\n",
    "        -0.1363077300000004,\n",
    "        -0.11263372999999977,\n",
    "        -0.09465473000000024,\n",
    "        -0.08064573000000053,\n",
    "    ],\n",
    "}"
   ]
  }
 ],
 "metadata": {
  "kernelspec": {
   "display_name": "Python 3 (ipykernel)",
   "language": "python",
   "name": "python3"
  },
  "language_info": {
   "codemirror_mode": {
    "name": "ipython",
    "version": 3
   },
   "file_extension": ".py",
   "mimetype": "text/x-python",
   "name": "python",
   "nbconvert_exporter": "python",
   "pygments_lexer": "ipython3",
   "version": "3.10.7"
  },
  "vscode": {
   "interpreter": {
    "hash": "e80af68df95a31e212cd009ac4ba18d1a695b62c5ba442f5a9e89f02be8b3cbc"
   }
  }
 },
 "nbformat": 4,
 "nbformat_minor": 5
}
